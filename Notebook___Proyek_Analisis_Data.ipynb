{
  "cells": [
    {
      "cell_type": "markdown",
      "metadata": {
        "id": "auddyd65_xjx"
      },
      "source": [
        "#Proyek Analisa Data :[]\n",
        "- Nama : [guruh sukmo]\n",
        "- Email : [sukmoguruh7@gmail.com]\n",
        "- ID Dicoding : []"
      ]
    },
    {
      "cell_type": "markdown",
      "metadata": {
        "id": "wmaMhXO-AI8G"
      },
      "source": [
        "1. pada jam-jam berapa terjadi peningkatan jumlah penyewa sepeda?\n",
        "\n",
        "2. Bagaimana pengaruh kondisi cuaca terhadap jumlah penyewa sepeda pada setiap jamnya?\n",
        "\n",
        "3. Bagaiamana pengaruh musim terhadap jumlah penyewa sepeda\n",
        "\n",
        "4. Apakah terdapat perbedaan jumlah penyewa sepeda terdaftar dan tidak terdaftar pada hari tertentu?"
      ]
    },
    {
      "cell_type": "code",
      "execution_count": 121,
      "metadata": {
        "colab": {
          "base_uri": "https://localhost:8080/"
        },
        "id": "9k8-K6QWzo7y",
        "outputId": "e5a2c2b1-46e7-4d68-d0a4-59bd9662ffda"
      },
      "outputs": [
        {
          "name": "stdout",
          "output_type": "stream",
          "text": [
            "Python 3.13.2\n"
          ]
        }
      ],
      "source": [
        "\n",
        "\n",
        "!python --version\n"
      ]
    },
    {
      "cell_type": "code",
      "execution_count": 122,
      "metadata": {
        "colab": {
          "base_uri": "https://localhost:8080/"
        },
        "id": "oHURbDA_AN9f",
        "outputId": "e272953d-4fdf-4f13-ae90-90538ba32cec"
      },
      "outputs": [
        {
          "name": "stderr",
          "output_type": "stream",
          "text": [
            "'source' is not recognized as an internal or external command,\n",
            "operable program or batch file.\n"
          ]
        }
      ],
      "source": [
        "\n",
        "\n",
        "!python3 -m venv envGURUH\n",
        "!source envGURUH/bin/activate\n",
        "\n"
      ]
    },
    {
      "cell_type": "markdown",
      "metadata": {
        "id": "ggoHn-ZHAZza"
      },
      "source": [
        "#import semua package"
      ]
    },
    {
      "cell_type": "code",
      "execution_count": 123,
      "metadata": {
        "colab": {
          "base_uri": "https://localhost:8080/"
        },
        "id": "kISkanvaAeTK",
        "outputId": "c551dda4-a7ed-4c60-f39d-62454455a049"
      },
      "outputs": [
        {
          "name": "stdout",
          "output_type": "stream",
          "text": [
            "Requirement already satisfied: pandas in .\\envnew\\lib\\site-packages (2.2.3)\n",
            "Requirement already satisfied: numpy>=1.26.0 in .\\envnew\\lib\\site-packages (from pandas) (2.2.3)\n",
            "Requirement already satisfied: python-dateutil>=2.8.2 in .\\envnew\\lib\\site-packages (from pandas) (2.9.0.post0)\n",
            "Requirement already satisfied: pytz>=2020.1 in .\\envnew\\lib\\site-packages (from pandas) (2025.1)\n",
            "Requirement already satisfied: tzdata>=2022.7 in .\\envnew\\lib\\site-packages (from pandas) (2025.1)\n",
            "Requirement already satisfied: six>=1.5 in .\\envnew\\lib\\site-packages (from python-dateutil>=2.8.2->pandas) (1.17.0)\n",
            "Note: you may need to restart the kernel to use updated packages.\n"
          ]
        }
      ],
      "source": [
        "pip install pandas"
      ]
    },
    {
      "cell_type": "code",
      "execution_count": 124,
      "metadata": {},
      "outputs": [
        {
          "name": "stdout",
          "output_type": "stream",
          "text": [
            "Requirement already satisfied: numpy in .\\envnew\\lib\\site-packages (2.2.3)\n",
            "Note: you may need to restart the kernel to use updated packages.\n"
          ]
        }
      ],
      "source": [
        "pip install numpy"
      ]
    },
    {
      "cell_type": "code",
      "execution_count": 125,
      "metadata": {},
      "outputs": [
        {
          "name": "stdout",
          "output_type": "stream",
          "text": [
            "Note: you may need to restart the kernel to use updated packages.\n"
          ]
        },
        {
          "name": "stderr",
          "output_type": "stream",
          "text": [
            "ERROR: Could not find a version that satisfies the requirement matpltolib (from versions: none)\n",
            "ERROR: No matching distribution found for matpltolib\n"
          ]
        }
      ],
      "source": [
        "pip install matpltolib"
      ]
    },
    {
      "cell_type": "code",
      "execution_count": 126,
      "metadata": {},
      "outputs": [
        {
          "name": "stdout",
          "output_type": "stream",
          "text": [
            "Requirement already satisfied: seaborn in .\\envnew\\lib\\site-packages (0.13.2)\n",
            "Requirement already satisfied: numpy!=1.24.0,>=1.20 in .\\envnew\\lib\\site-packages (from seaborn) (2.2.3)\n",
            "Requirement already satisfied: pandas>=1.2 in .\\envnew\\lib\\site-packages (from seaborn) (2.2.3)\n",
            "Requirement already satisfied: matplotlib!=3.6.1,>=3.4 in .\\envnew\\lib\\site-packages (from seaborn) (3.10.1)\n",
            "Requirement already satisfied: contourpy>=1.0.1 in .\\envnew\\lib\\site-packages (from matplotlib!=3.6.1,>=3.4->seaborn) (1.3.1)\n",
            "Requirement already satisfied: cycler>=0.10 in .\\envnew\\lib\\site-packages (from matplotlib!=3.6.1,>=3.4->seaborn) (0.12.1)\n",
            "Requirement already satisfied: fonttools>=4.22.0 in .\\envnew\\lib\\site-packages (from matplotlib!=3.6.1,>=3.4->seaborn) (4.56.0)\n",
            "Requirement already satisfied: kiwisolver>=1.3.1 in .\\envnew\\lib\\site-packages (from matplotlib!=3.6.1,>=3.4->seaborn) (1.4.8)\n",
            "Requirement already satisfied: packaging>=20.0 in .\\envnew\\lib\\site-packages (from matplotlib!=3.6.1,>=3.4->seaborn) (24.2)\n",
            "Requirement already satisfied: pillow>=8 in .\\envnew\\lib\\site-packages (from matplotlib!=3.6.1,>=3.4->seaborn) (11.1.0)\n",
            "Requirement already satisfied: pyparsing>=2.3.1 in .\\envnew\\lib\\site-packages (from matplotlib!=3.6.1,>=3.4->seaborn) (3.2.1)\n",
            "Requirement already satisfied: python-dateutil>=2.7 in .\\envnew\\lib\\site-packages (from matplotlib!=3.6.1,>=3.4->seaborn) (2.9.0.post0)\n",
            "Requirement already satisfied: pytz>=2020.1 in .\\envnew\\lib\\site-packages (from pandas>=1.2->seaborn) (2025.1)\n",
            "Requirement already satisfied: tzdata>=2022.7 in .\\envnew\\lib\\site-packages (from pandas>=1.2->seaborn) (2025.1)\n",
            "Requirement already satisfied: six>=1.5 in .\\envnew\\lib\\site-packages (from python-dateutil>=2.7->matplotlib!=3.6.1,>=3.4->seaborn) (1.17.0)\n",
            "Note: you may need to restart the kernel to use updated packages.\n"
          ]
        }
      ],
      "source": [
        "pip install seaborn"
      ]
    },
    {
      "cell_type": "code",
      "execution_count": 127,
      "metadata": {
        "id": "DYEYxYdo4TA2"
      },
      "outputs": [],
      "source": [
        "import pandas as pd\n",
        "import numpy as np\n",
        "import matplotlib.pyplot as plt\n",
        "import seaborn as sns"
      ]
    },
    {
      "cell_type": "code",
      "execution_count": 128,
      "metadata": {
        "colab": {
          "base_uri": "https://localhost:8080/"
        },
        "id": "Pvha1z-6uXtB",
        "outputId": "abbcb8f8-d538-4782-9e60-a9b34cce8ac8"
      },
      "outputs": [
        {
          "name": "stdout",
          "output_type": "stream",
          "text": [
            "pandas version :  2.2.3\n",
            "numpy version :  2.2.3\n",
            "seaborn version :  0.13.2\n"
          ]
        }
      ],
      "source": [
        "print(\"pandas version : \", pd.__version__)\n",
        "print(\"numpy version : \", np.__version__)\n",
        "print(\"seaborn version : \", sns.__version__)\n"
      ]
    },
    {
      "cell_type": "markdown",
      "metadata": {
        "id": "Jf8SXEnlAezz"
      },
      "source": [
        "#Data Wrangling"
      ]
    },
    {
      "cell_type": "markdown",
      "metadata": {
        "id": "IDOwyHjTArfW"
      },
      "source": [
        "#Gathering Data"
      ]
    },
    {
      "cell_type": "code",
      "execution_count": 129,
      "metadata": {
        "id": "1aFqZ5H8Ahln"
      },
      "outputs": [],
      "source": [
        "day =pd.read_csv(\"https://raw.githubusercontent.com/Zuckmo/AnalisaDataSepeda/refs/heads/main/day.csv\")\n",
        "hour =pd.read_csv(\"https://raw.githubusercontent.com/Zuckmo/AnalisaDataSepeda/refs/heads/main/hour.csv\")"
      ]
    },
    {
      "cell_type": "markdown",
      "metadata": {
        "id": "J4XOL5CdBA4O"
      },
      "source": [
        "insight:"
      ]
    },
    {
      "cell_type": "code",
      "execution_count": 130,
      "metadata": {
        "colab": {
          "base_uri": "https://localhost:8080/",
          "height": 313
        },
        "id": "Emw5YiQaFM4v",
        "outputId": "804f3a4c-62fb-4b2d-ce5a-217d33985342"
      },
      "outputs": [
        {
          "data": {
            "text/html": [
              "<div>\n",
              "<style scoped>\n",
              "    .dataframe tbody tr th:only-of-type {\n",
              "        vertical-align: middle;\n",
              "    }\n",
              "\n",
              "    .dataframe tbody tr th {\n",
              "        vertical-align: top;\n",
              "    }\n",
              "\n",
              "    .dataframe thead th {\n",
              "        text-align: right;\n",
              "    }\n",
              "</style>\n",
              "<table border=\"1\" class=\"dataframe\">\n",
              "  <thead>\n",
              "    <tr style=\"text-align: right;\">\n",
              "      <th></th>\n",
              "      <th>instant</th>\n",
              "      <th>dteday</th>\n",
              "      <th>season</th>\n",
              "      <th>yr</th>\n",
              "      <th>mnth</th>\n",
              "      <th>holiday</th>\n",
              "      <th>weekday</th>\n",
              "      <th>workingday</th>\n",
              "      <th>weathersit</th>\n",
              "      <th>temp</th>\n",
              "      <th>atemp</th>\n",
              "      <th>hum</th>\n",
              "      <th>windspeed</th>\n",
              "      <th>casual</th>\n",
              "      <th>registered</th>\n",
              "      <th>cnt</th>\n",
              "    </tr>\n",
              "  </thead>\n",
              "  <tbody>\n",
              "    <tr>\n",
              "      <th>0</th>\n",
              "      <td>1</td>\n",
              "      <td>2011-01-01</td>\n",
              "      <td>1</td>\n",
              "      <td>0</td>\n",
              "      <td>1</td>\n",
              "      <td>0</td>\n",
              "      <td>6</td>\n",
              "      <td>0</td>\n",
              "      <td>2</td>\n",
              "      <td>0.344167</td>\n",
              "      <td>0.363625</td>\n",
              "      <td>0.805833</td>\n",
              "      <td>0.160446</td>\n",
              "      <td>331</td>\n",
              "      <td>654</td>\n",
              "      <td>985</td>\n",
              "    </tr>\n",
              "    <tr>\n",
              "      <th>1</th>\n",
              "      <td>2</td>\n",
              "      <td>2011-01-02</td>\n",
              "      <td>1</td>\n",
              "      <td>0</td>\n",
              "      <td>1</td>\n",
              "      <td>0</td>\n",
              "      <td>0</td>\n",
              "      <td>0</td>\n",
              "      <td>2</td>\n",
              "      <td>0.363478</td>\n",
              "      <td>0.353739</td>\n",
              "      <td>0.696087</td>\n",
              "      <td>0.248539</td>\n",
              "      <td>131</td>\n",
              "      <td>670</td>\n",
              "      <td>801</td>\n",
              "    </tr>\n",
              "    <tr>\n",
              "      <th>2</th>\n",
              "      <td>3</td>\n",
              "      <td>2011-01-03</td>\n",
              "      <td>1</td>\n",
              "      <td>0</td>\n",
              "      <td>1</td>\n",
              "      <td>0</td>\n",
              "      <td>1</td>\n",
              "      <td>1</td>\n",
              "      <td>1</td>\n",
              "      <td>0.196364</td>\n",
              "      <td>0.189405</td>\n",
              "      <td>0.437273</td>\n",
              "      <td>0.248309</td>\n",
              "      <td>120</td>\n",
              "      <td>1229</td>\n",
              "      <td>1349</td>\n",
              "    </tr>\n",
              "    <tr>\n",
              "      <th>3</th>\n",
              "      <td>4</td>\n",
              "      <td>2011-01-04</td>\n",
              "      <td>1</td>\n",
              "      <td>0</td>\n",
              "      <td>1</td>\n",
              "      <td>0</td>\n",
              "      <td>2</td>\n",
              "      <td>1</td>\n",
              "      <td>1</td>\n",
              "      <td>0.200000</td>\n",
              "      <td>0.212122</td>\n",
              "      <td>0.590435</td>\n",
              "      <td>0.160296</td>\n",
              "      <td>108</td>\n",
              "      <td>1454</td>\n",
              "      <td>1562</td>\n",
              "    </tr>\n",
              "    <tr>\n",
              "      <th>4</th>\n",
              "      <td>5</td>\n",
              "      <td>2011-01-05</td>\n",
              "      <td>1</td>\n",
              "      <td>0</td>\n",
              "      <td>1</td>\n",
              "      <td>0</td>\n",
              "      <td>3</td>\n",
              "      <td>1</td>\n",
              "      <td>1</td>\n",
              "      <td>0.226957</td>\n",
              "      <td>0.229270</td>\n",
              "      <td>0.436957</td>\n",
              "      <td>0.186900</td>\n",
              "      <td>82</td>\n",
              "      <td>1518</td>\n",
              "      <td>1600</td>\n",
              "    </tr>\n",
              "  </tbody>\n",
              "</table>\n",
              "</div>"
            ],
            "text/plain": [
              "   instant      dteday  season  yr  mnth  holiday  weekday  workingday  \\\n",
              "0        1  2011-01-01       1   0     1        0        6           0   \n",
              "1        2  2011-01-02       1   0     1        0        0           0   \n",
              "2        3  2011-01-03       1   0     1        0        1           1   \n",
              "3        4  2011-01-04       1   0     1        0        2           1   \n",
              "4        5  2011-01-05       1   0     1        0        3           1   \n",
              "\n",
              "   weathersit      temp     atemp       hum  windspeed  casual  registered  \\\n",
              "0           2  0.344167  0.363625  0.805833   0.160446     331         654   \n",
              "1           2  0.363478  0.353739  0.696087   0.248539     131         670   \n",
              "2           1  0.196364  0.189405  0.437273   0.248309     120        1229   \n",
              "3           1  0.200000  0.212122  0.590435   0.160296     108        1454   \n",
              "4           1  0.226957  0.229270  0.436957   0.186900      82        1518   \n",
              "\n",
              "    cnt  \n",
              "0   985  \n",
              "1   801  \n",
              "2  1349  \n",
              "3  1562  \n",
              "4  1600  "
            ]
          },
          "execution_count": 130,
          "metadata": {},
          "output_type": "execute_result"
        }
      ],
      "source": [
        "day.head()"
      ]
    },
    {
      "cell_type": "code",
      "execution_count": 131,
      "metadata": {
        "colab": {
          "base_uri": "https://localhost:8080/"
        },
        "id": "ETsx96GgAXM7",
        "outputId": "bc89b9b3-7b3c-47e2-d8ea-34204bec4435"
      },
      "outputs": [
        {
          "name": "stdout",
          "output_type": "stream",
          "text": [
            "Jumlah baris data 'day': 731\n",
            "Jumlah baris data 'hour': 17379\n"
          ]
        }
      ],
      "source": [
        "\n",
        "\n",
        "print(\"Jumlah baris data 'day':\", len(day))\n",
        "print(\"Jumlah baris data 'hour':\", len(hour))\n"
      ]
    },
    {
      "cell_type": "code",
      "execution_count": 132,
      "metadata": {
        "colab": {
          "base_uri": "https://localhost:8080/",
          "height": 330
        },
        "id": "U9bK-yyHAlBo",
        "outputId": "2de9a9b8-74a1-488b-9649-ada9966b6f48"
      },
      "outputs": [
        {
          "name": "stdout",
          "output_type": "stream",
          "text": [
            "Jumlah baris data gabungan : 18110\n"
          ]
        },
        {
          "data": {
            "text/html": [
              "<div>\n",
              "<style scoped>\n",
              "    .dataframe tbody tr th:only-of-type {\n",
              "        vertical-align: middle;\n",
              "    }\n",
              "\n",
              "    .dataframe tbody tr th {\n",
              "        vertical-align: top;\n",
              "    }\n",
              "\n",
              "    .dataframe thead th {\n",
              "        text-align: right;\n",
              "    }\n",
              "</style>\n",
              "<table border=\"1\" class=\"dataframe\">\n",
              "  <thead>\n",
              "    <tr style=\"text-align: right;\">\n",
              "      <th></th>\n",
              "      <th>instant</th>\n",
              "      <th>dteday</th>\n",
              "      <th>season</th>\n",
              "      <th>yr</th>\n",
              "      <th>mnth</th>\n",
              "      <th>holiday</th>\n",
              "      <th>weekday</th>\n",
              "      <th>workingday</th>\n",
              "      <th>weathersit</th>\n",
              "      <th>temp</th>\n",
              "      <th>atemp</th>\n",
              "      <th>hum</th>\n",
              "      <th>windspeed</th>\n",
              "      <th>casual</th>\n",
              "      <th>registered</th>\n",
              "      <th>cnt</th>\n",
              "      <th>hr</th>\n",
              "    </tr>\n",
              "  </thead>\n",
              "  <tbody>\n",
              "    <tr>\n",
              "      <th>0</th>\n",
              "      <td>1</td>\n",
              "      <td>2011-01-01</td>\n",
              "      <td>1</td>\n",
              "      <td>0</td>\n",
              "      <td>1</td>\n",
              "      <td>0</td>\n",
              "      <td>6</td>\n",
              "      <td>0</td>\n",
              "      <td>2</td>\n",
              "      <td>0.344167</td>\n",
              "      <td>0.363625</td>\n",
              "      <td>0.805833</td>\n",
              "      <td>0.160446</td>\n",
              "      <td>331</td>\n",
              "      <td>654</td>\n",
              "      <td>985</td>\n",
              "      <td>NaN</td>\n",
              "    </tr>\n",
              "    <tr>\n",
              "      <th>1</th>\n",
              "      <td>2</td>\n",
              "      <td>2011-01-02</td>\n",
              "      <td>1</td>\n",
              "      <td>0</td>\n",
              "      <td>1</td>\n",
              "      <td>0</td>\n",
              "      <td>0</td>\n",
              "      <td>0</td>\n",
              "      <td>2</td>\n",
              "      <td>0.363478</td>\n",
              "      <td>0.353739</td>\n",
              "      <td>0.696087</td>\n",
              "      <td>0.248539</td>\n",
              "      <td>131</td>\n",
              "      <td>670</td>\n",
              "      <td>801</td>\n",
              "      <td>NaN</td>\n",
              "    </tr>\n",
              "    <tr>\n",
              "      <th>2</th>\n",
              "      <td>3</td>\n",
              "      <td>2011-01-03</td>\n",
              "      <td>1</td>\n",
              "      <td>0</td>\n",
              "      <td>1</td>\n",
              "      <td>0</td>\n",
              "      <td>1</td>\n",
              "      <td>1</td>\n",
              "      <td>1</td>\n",
              "      <td>0.196364</td>\n",
              "      <td>0.189405</td>\n",
              "      <td>0.437273</td>\n",
              "      <td>0.248309</td>\n",
              "      <td>120</td>\n",
              "      <td>1229</td>\n",
              "      <td>1349</td>\n",
              "      <td>NaN</td>\n",
              "    </tr>\n",
              "    <tr>\n",
              "      <th>3</th>\n",
              "      <td>4</td>\n",
              "      <td>2011-01-04</td>\n",
              "      <td>1</td>\n",
              "      <td>0</td>\n",
              "      <td>1</td>\n",
              "      <td>0</td>\n",
              "      <td>2</td>\n",
              "      <td>1</td>\n",
              "      <td>1</td>\n",
              "      <td>0.200000</td>\n",
              "      <td>0.212122</td>\n",
              "      <td>0.590435</td>\n",
              "      <td>0.160296</td>\n",
              "      <td>108</td>\n",
              "      <td>1454</td>\n",
              "      <td>1562</td>\n",
              "      <td>NaN</td>\n",
              "    </tr>\n",
              "    <tr>\n",
              "      <th>4</th>\n",
              "      <td>5</td>\n",
              "      <td>2011-01-05</td>\n",
              "      <td>1</td>\n",
              "      <td>0</td>\n",
              "      <td>1</td>\n",
              "      <td>0</td>\n",
              "      <td>3</td>\n",
              "      <td>1</td>\n",
              "      <td>1</td>\n",
              "      <td>0.226957</td>\n",
              "      <td>0.229270</td>\n",
              "      <td>0.436957</td>\n",
              "      <td>0.186900</td>\n",
              "      <td>82</td>\n",
              "      <td>1518</td>\n",
              "      <td>1600</td>\n",
              "      <td>NaN</td>\n",
              "    </tr>\n",
              "  </tbody>\n",
              "</table>\n",
              "</div>"
            ],
            "text/plain": [
              "   instant      dteday  season  yr  mnth  holiday  weekday  workingday  \\\n",
              "0        1  2011-01-01       1   0     1        0        6           0   \n",
              "1        2  2011-01-02       1   0     1        0        0           0   \n",
              "2        3  2011-01-03       1   0     1        0        1           1   \n",
              "3        4  2011-01-04       1   0     1        0        2           1   \n",
              "4        5  2011-01-05       1   0     1        0        3           1   \n",
              "\n",
              "   weathersit      temp     atemp       hum  windspeed  casual  registered  \\\n",
              "0           2  0.344167  0.363625  0.805833   0.160446     331         654   \n",
              "1           2  0.363478  0.353739  0.696087   0.248539     131         670   \n",
              "2           1  0.196364  0.189405  0.437273   0.248309     120        1229   \n",
              "3           1  0.200000  0.212122  0.590435   0.160296     108        1454   \n",
              "4           1  0.226957  0.229270  0.436957   0.186900      82        1518   \n",
              "\n",
              "    cnt  hr  \n",
              "0   985 NaN  \n",
              "1   801 NaN  \n",
              "2  1349 NaN  \n",
              "3  1562 NaN  \n",
              "4  1600 NaN  "
            ]
          },
          "execution_count": 132,
          "metadata": {},
          "output_type": "execute_result"
        }
      ],
      "source": [
        "\n",
        "\n",
        "import pandas as pd\n",
        "combined_data = pd.concat([day, hour], ignore_index=True)\n",
        "print(\"Jumlah baris data gabungan :\", len(combined_data))\n",
        "combined_data.head()\n"
      ]
    },
    {
      "cell_type": "code",
      "execution_count": 133,
      "metadata": {
        "colab": {
          "base_uri": "https://localhost:8080/",
          "height": 617
        },
        "id": "nbXXwBlPA0Ij",
        "outputId": "9e20bfd0-7bd0-4425-ccf3-38c97c3a89d2"
      },
      "outputs": [
        {
          "data": {
            "text/plain": [
              "instant         0\n",
              "dteday          0\n",
              "season          0\n",
              "yr              0\n",
              "mnth            0\n",
              "holiday         0\n",
              "weekday         0\n",
              "workingday      0\n",
              "weathersit      0\n",
              "temp            0\n",
              "atemp           0\n",
              "hum             0\n",
              "windspeed       0\n",
              "casual          0\n",
              "registered      0\n",
              "cnt             0\n",
              "hr            731\n",
              "dtype: int64"
            ]
          },
          "execution_count": 133,
          "metadata": {},
          "output_type": "execute_result"
        }
      ],
      "source": [
        "combined_data.isna().sum()"
      ]
    },
    {
      "cell_type": "code",
      "execution_count": 134,
      "metadata": {
        "colab": {
          "base_uri": "https://localhost:8080/"
        },
        "id": "1IgQWTweFZaH",
        "outputId": "747c95be-fc6f-48a0-e604-853fcd0e18e5"
      },
      "outputs": [
        {
          "data": {
            "text/plain": [
              "np.int64(0)"
            ]
          },
          "execution_count": 134,
          "metadata": {},
          "output_type": "execute_result"
        }
      ],
      "source": [
        "combined_data.duplicated().sum()"
      ]
    },
    {
      "cell_type": "code",
      "execution_count": 135,
      "metadata": {
        "colab": {
          "base_uri": "https://localhost:8080/",
          "height": 313
        },
        "id": "WPUG_Ia94gQY",
        "outputId": "f8af00d5-99ad-4f35-c7f7-0bb1a9238c9f"
      },
      "outputs": [
        {
          "data": {
            "text/html": [
              "<div>\n",
              "<style scoped>\n",
              "    .dataframe tbody tr th:only-of-type {\n",
              "        vertical-align: middle;\n",
              "    }\n",
              "\n",
              "    .dataframe tbody tr th {\n",
              "        vertical-align: top;\n",
              "    }\n",
              "\n",
              "    .dataframe thead th {\n",
              "        text-align: right;\n",
              "    }\n",
              "</style>\n",
              "<table border=\"1\" class=\"dataframe\">\n",
              "  <thead>\n",
              "    <tr style=\"text-align: right;\">\n",
              "      <th></th>\n",
              "      <th>instant</th>\n",
              "      <th>dteday</th>\n",
              "      <th>season</th>\n",
              "      <th>yr</th>\n",
              "      <th>mnth</th>\n",
              "      <th>hr</th>\n",
              "      <th>holiday</th>\n",
              "      <th>weekday</th>\n",
              "      <th>workingday</th>\n",
              "      <th>weathersit</th>\n",
              "      <th>temp</th>\n",
              "      <th>atemp</th>\n",
              "      <th>hum</th>\n",
              "      <th>windspeed</th>\n",
              "      <th>casual</th>\n",
              "      <th>registered</th>\n",
              "      <th>cnt</th>\n",
              "    </tr>\n",
              "  </thead>\n",
              "  <tbody>\n",
              "    <tr>\n",
              "      <th>0</th>\n",
              "      <td>1</td>\n",
              "      <td>2011-01-01</td>\n",
              "      <td>1</td>\n",
              "      <td>0</td>\n",
              "      <td>1</td>\n",
              "      <td>0</td>\n",
              "      <td>0</td>\n",
              "      <td>6</td>\n",
              "      <td>0</td>\n",
              "      <td>1</td>\n",
              "      <td>0.24</td>\n",
              "      <td>0.2879</td>\n",
              "      <td>0.81</td>\n",
              "      <td>0.0</td>\n",
              "      <td>3</td>\n",
              "      <td>13</td>\n",
              "      <td>16</td>\n",
              "    </tr>\n",
              "    <tr>\n",
              "      <th>1</th>\n",
              "      <td>2</td>\n",
              "      <td>2011-01-01</td>\n",
              "      <td>1</td>\n",
              "      <td>0</td>\n",
              "      <td>1</td>\n",
              "      <td>1</td>\n",
              "      <td>0</td>\n",
              "      <td>6</td>\n",
              "      <td>0</td>\n",
              "      <td>1</td>\n",
              "      <td>0.22</td>\n",
              "      <td>0.2727</td>\n",
              "      <td>0.80</td>\n",
              "      <td>0.0</td>\n",
              "      <td>8</td>\n",
              "      <td>32</td>\n",
              "      <td>40</td>\n",
              "    </tr>\n",
              "    <tr>\n",
              "      <th>2</th>\n",
              "      <td>3</td>\n",
              "      <td>2011-01-01</td>\n",
              "      <td>1</td>\n",
              "      <td>0</td>\n",
              "      <td>1</td>\n",
              "      <td>2</td>\n",
              "      <td>0</td>\n",
              "      <td>6</td>\n",
              "      <td>0</td>\n",
              "      <td>1</td>\n",
              "      <td>0.22</td>\n",
              "      <td>0.2727</td>\n",
              "      <td>0.80</td>\n",
              "      <td>0.0</td>\n",
              "      <td>5</td>\n",
              "      <td>27</td>\n",
              "      <td>32</td>\n",
              "    </tr>\n",
              "    <tr>\n",
              "      <th>3</th>\n",
              "      <td>4</td>\n",
              "      <td>2011-01-01</td>\n",
              "      <td>1</td>\n",
              "      <td>0</td>\n",
              "      <td>1</td>\n",
              "      <td>3</td>\n",
              "      <td>0</td>\n",
              "      <td>6</td>\n",
              "      <td>0</td>\n",
              "      <td>1</td>\n",
              "      <td>0.24</td>\n",
              "      <td>0.2879</td>\n",
              "      <td>0.75</td>\n",
              "      <td>0.0</td>\n",
              "      <td>3</td>\n",
              "      <td>10</td>\n",
              "      <td>13</td>\n",
              "    </tr>\n",
              "    <tr>\n",
              "      <th>4</th>\n",
              "      <td>5</td>\n",
              "      <td>2011-01-01</td>\n",
              "      <td>1</td>\n",
              "      <td>0</td>\n",
              "      <td>1</td>\n",
              "      <td>4</td>\n",
              "      <td>0</td>\n",
              "      <td>6</td>\n",
              "      <td>0</td>\n",
              "      <td>1</td>\n",
              "      <td>0.24</td>\n",
              "      <td>0.2879</td>\n",
              "      <td>0.75</td>\n",
              "      <td>0.0</td>\n",
              "      <td>0</td>\n",
              "      <td>1</td>\n",
              "      <td>1</td>\n",
              "    </tr>\n",
              "  </tbody>\n",
              "</table>\n",
              "</div>"
            ],
            "text/plain": [
              "   instant      dteday  season  yr  mnth  hr  holiday  weekday  workingday  \\\n",
              "0        1  2011-01-01       1   0     1   0        0        6           0   \n",
              "1        2  2011-01-01       1   0     1   1        0        6           0   \n",
              "2        3  2011-01-01       1   0     1   2        0        6           0   \n",
              "3        4  2011-01-01       1   0     1   3        0        6           0   \n",
              "4        5  2011-01-01       1   0     1   4        0        6           0   \n",
              "\n",
              "   weathersit  temp   atemp   hum  windspeed  casual  registered  cnt  \n",
              "0           1  0.24  0.2879  0.81        0.0       3          13   16  \n",
              "1           1  0.22  0.2727  0.80        0.0       8          32   40  \n",
              "2           1  0.22  0.2727  0.80        0.0       5          27   32  \n",
              "3           1  0.24  0.2879  0.75        0.0       3          10   13  \n",
              "4           1  0.24  0.2879  0.75        0.0       0           1    1  "
            ]
          },
          "execution_count": 135,
          "metadata": {},
          "output_type": "execute_result"
        }
      ],
      "source": [
        "hour.head()"
      ]
    },
    {
      "cell_type": "code",
      "execution_count": 136,
      "metadata": {
        "colab": {
          "base_uri": "https://localhost:8080/"
        },
        "id": "tgvqTpa_-A7T",
        "outputId": "885771d9-4523-4da1-feca-cb1f97dfe482"
      },
      "outputs": [
        {
          "name": "stdout",
          "output_type": "stream",
          "text": [
            "[ 0  1  2  3  4  5  6  7  8  9 10 11 12 13 14 15 16 17 18 19 20 21 22 23]\n"
          ]
        }
      ],
      "source": [
        "#tampilkan unique value dari kolom \"hr\"\n",
        "\n",
        "print(hour['hr'].unique())\n"
      ]
    },
    {
      "cell_type": "code",
      "execution_count": 137,
      "metadata": {
        "colab": {
          "base_uri": "https://localhost:8080/",
          "height": 174
        },
        "collapsed": true,
        "id": "KJQvxy6DFiWF",
        "outputId": "ecf75165-de2a-44d2-fd0d-5caf9e8476b5"
      },
      "outputs": [
        {
          "data": {
            "text/plain": [
              "'\\ninstant: indeks rekaman\\ndteday: tanggal\\nseason: musim (1: musim semi, 2: musim panas, 3: musim gugur, 4: musim dingin)\\nyr: tahun (0: 2011, 1: 2012)\\nmnth: bulan (1 hingga 12)\\nhr: jam (0 hingga 23)\\nholiday: apakah hari tersebut adalah hari libur atau bukan (diambil dari jadwal libur DCHR)\\nweekday: hari dalam seminggu\\nworkingday: jika hari tersebut bukan akhir pekan atau hari libur, maka bernilai 1, jika tidak maka 0\\nweathersit (kondisi cuaca):\\n    1: Cerah, sedikit berawan, berawan sebagian\\n    2: Kabut + berawan, kabut + awan pecah, kabut + sedikit awan, kabut\\n    3: Salju ringan, hujan ringan + petir + awan tersebar, hujan ringan + awan tersebar\\n    4: Hujan lebat + es + petir + kabut, salju + kabut\\ntemp: suhu yang telah dinormalisasi dalam Celsius (dibagi dengan 41 sebagai nilai maksimum)\\natemp: suhu yang dirasakan yang telah dinormalisasi dalam Celsius (dibagi dengan 50 sebagai nilai maksimum)\\nhum: kelembaban yang telah dinormalisasi (dibagi dengan 100 sebagai nilai maksimum)\\nwindspeed: kecepatan angin yang telah dinormalisasi (dibagi dengan 67 sebagai nilai maksimum)\\ncasual: jumlah pengguna sepeda tidak terdaftar\\nregistered: jumlah pengguna sepeda yang terdaftar\\ncnt: jumlah total penyewaan sepeda termasuk pengguna tidak terdaftar dan terdaftar\\n'"
            ]
          },
          "execution_count": 137,
          "metadata": {},
          "output_type": "execute_result"
        }
      ],
      "source": [
        "\"\"\"\n",
        "instant: indeks rekaman\n",
        "dteday: tanggal\n",
        "season: musim (1: musim semi, 2: musim panas, 3: musim gugur, 4: musim dingin)\n",
        "yr: tahun (0: 2011, 1: 2012)\n",
        "mnth: bulan (1 hingga 12)\n",
        "hr: jam (0 hingga 23)\n",
        "holiday: apakah hari tersebut adalah hari libur atau bukan (diambil dari jadwal libur DCHR)\n",
        "weekday: hari dalam seminggu\n",
        "workingday: jika hari tersebut bukan akhir pekan atau hari libur, maka bernilai 1, jika tidak maka 0\n",
        "weathersit (kondisi cuaca):\n",
        "    1: Cerah, sedikit berawan, berawan sebagian\n",
        "    2: Kabut + berawan, kabut + awan pecah, kabut + sedikit awan, kabut\n",
        "    3: Salju ringan, hujan ringan + petir + awan tersebar, hujan ringan + awan tersebar\n",
        "    4: Hujan lebat + es + petir + kabut, salju + kabut\n",
        "temp: suhu yang telah dinormalisasi dalam Celsius (dibagi dengan 41 sebagai nilai maksimum)\n",
        "atemp: suhu yang dirasakan yang telah dinormalisasi dalam Celsius (dibagi dengan 50 sebagai nilai maksimum)\n",
        "hum: kelembaban yang telah dinormalisasi (dibagi dengan 100 sebagai nilai maksimum)\n",
        "windspeed: kecepatan angin yang telah dinormalisasi (dibagi dengan 67 sebagai nilai maksimum)\n",
        "casual: jumlah pengguna sepeda tidak terdaftar\n",
        "registered: jumlah pengguna sepeda yang terdaftar\n",
        "cnt: jumlah total penyewaan sepeda termasuk pengguna tidak terdaftar dan terdaftar\n",
        "\"\"\""
      ]
    },
    {
      "cell_type": "markdown",
      "metadata": {
        "id": "dq2aX2It2-Oy"
      },
      "source": [
        "#Assessing Data"
      ]
    },
    {
      "cell_type": "code",
      "execution_count": 138,
      "metadata": {
        "colab": {
          "base_uri": "https://localhost:8080/"
        },
        "id": "J4a9sAzGueJx",
        "outputId": "69ea8ab8-8aa7-4fab-9b61-73ad2bbb823a"
      },
      "outputs": [
        {
          "name": "stdout",
          "output_type": "stream",
          "text": [
            "<class 'pandas.core.frame.DataFrame'>\n",
            "RangeIndex: 731 entries, 0 to 730\n",
            "Data columns (total 16 columns):\n",
            " #   Column      Non-Null Count  Dtype  \n",
            "---  ------      --------------  -----  \n",
            " 0   instant     731 non-null    int64  \n",
            " 1   dteday      731 non-null    object \n",
            " 2   season      731 non-null    int64  \n",
            " 3   yr          731 non-null    int64  \n",
            " 4   mnth        731 non-null    int64  \n",
            " 5   holiday     731 non-null    int64  \n",
            " 6   weekday     731 non-null    int64  \n",
            " 7   workingday  731 non-null    int64  \n",
            " 8   weathersit  731 non-null    int64  \n",
            " 9   temp        731 non-null    float64\n",
            " 10  atemp       731 non-null    float64\n",
            " 11  hum         731 non-null    float64\n",
            " 12  windspeed   731 non-null    float64\n",
            " 13  casual      731 non-null    int64  \n",
            " 14  registered  731 non-null    int64  \n",
            " 15  cnt         731 non-null    int64  \n",
            "dtypes: float64(4), int64(11), object(1)\n",
            "memory usage: 91.5+ KB\n"
          ]
        }
      ],
      "source": [
        "day.info()"
      ]
    },
    {
      "cell_type": "code",
      "execution_count": 139,
      "metadata": {
        "colab": {
          "base_uri": "https://localhost:8080/"
        },
        "id": "9P3iVoiMu5hL",
        "outputId": "f99b077f-ed4c-4702-b495-5aae680eaae1"
      },
      "outputs": [
        {
          "name": "stdout",
          "output_type": "stream",
          "text": [
            "<class 'pandas.core.frame.DataFrame'>\n",
            "RangeIndex: 17379 entries, 0 to 17378\n",
            "Data columns (total 17 columns):\n",
            " #   Column      Non-Null Count  Dtype  \n",
            "---  ------      --------------  -----  \n",
            " 0   instant     17379 non-null  int64  \n",
            " 1   dteday      17379 non-null  object \n",
            " 2   season      17379 non-null  int64  \n",
            " 3   yr          17379 non-null  int64  \n",
            " 4   mnth        17379 non-null  int64  \n",
            " 5   hr          17379 non-null  int64  \n",
            " 6   holiday     17379 non-null  int64  \n",
            " 7   weekday     17379 non-null  int64  \n",
            " 8   workingday  17379 non-null  int64  \n",
            " 9   weathersit  17379 non-null  int64  \n",
            " 10  temp        17379 non-null  float64\n",
            " 11  atemp       17379 non-null  float64\n",
            " 12  hum         17379 non-null  float64\n",
            " 13  windspeed   17379 non-null  float64\n",
            " 14  casual      17379 non-null  int64  \n",
            " 15  registered  17379 non-null  int64  \n",
            " 16  cnt         17379 non-null  int64  \n",
            "dtypes: float64(4), int64(12), object(1)\n",
            "memory usage: 2.3+ MB\n"
          ]
        }
      ],
      "source": [
        "hour.info()"
      ]
    },
    {
      "cell_type": "code",
      "execution_count": 140,
      "metadata": {
        "colab": {
          "base_uri": "https://localhost:8080/",
          "height": 586
        },
        "id": "KO1EuJ-hvGGR",
        "outputId": "44e936a1-1afa-48e9-8122-f170e0d7465c"
      },
      "outputs": [
        {
          "data": {
            "text/plain": [
              "instant       0\n",
              "dteday        0\n",
              "season        0\n",
              "yr            0\n",
              "mnth          0\n",
              "holiday       0\n",
              "weekday       0\n",
              "workingday    0\n",
              "weathersit    0\n",
              "temp          0\n",
              "atemp         0\n",
              "hum           0\n",
              "windspeed     0\n",
              "casual        0\n",
              "registered    0\n",
              "cnt           0\n",
              "dtype: int64"
            ]
          },
          "execution_count": 140,
          "metadata": {},
          "output_type": "execute_result"
        }
      ],
      "source": [
        "day.isna().sum()"
      ]
    },
    {
      "cell_type": "code",
      "execution_count": 141,
      "metadata": {
        "colab": {
          "base_uri": "https://localhost:8080/",
          "height": 617
        },
        "id": "2Yf0fJalvK4x",
        "outputId": "5395f0e7-ce66-4c70-826f-192d8217de35"
      },
      "outputs": [
        {
          "data": {
            "text/plain": [
              "instant       0\n",
              "dteday        0\n",
              "season        0\n",
              "yr            0\n",
              "mnth          0\n",
              "hr            0\n",
              "holiday       0\n",
              "weekday       0\n",
              "workingday    0\n",
              "weathersit    0\n",
              "temp          0\n",
              "atemp         0\n",
              "hum           0\n",
              "windspeed     0\n",
              "casual        0\n",
              "registered    0\n",
              "cnt           0\n",
              "dtype: int64"
            ]
          },
          "execution_count": 141,
          "metadata": {},
          "output_type": "execute_result"
        }
      ],
      "source": [
        "hour.isna().sum()"
      ]
    },
    {
      "cell_type": "code",
      "execution_count": 142,
      "metadata": {
        "colab": {
          "base_uri": "https://localhost:8080/"
        },
        "id": "6_wkz6AgvV_s",
        "outputId": "d01c0e60-ebe4-485c-c579-a507697294bc"
      },
      "outputs": [
        {
          "name": "stdout",
          "output_type": "stream",
          "text": [
            "jumlah data duplikat data day :  0\n"
          ]
        }
      ],
      "source": [
        "print(\"jumlah data duplikat data day : \", day.duplicated().sum())"
      ]
    },
    {
      "cell_type": "code",
      "execution_count": 143,
      "metadata": {
        "colab": {
          "base_uri": "https://localhost:8080/"
        },
        "id": "szH5FvNCvlX6",
        "outputId": "eccb2dea-5399-4f87-a41f-291bc3b175e5"
      },
      "outputs": [
        {
          "name": "stdout",
          "output_type": "stream",
          "text": [
            "jumlah data duplikat data hour :  0\n"
          ]
        }
      ],
      "source": [
        "print(\"jumlah data duplikat data hour : \", day.duplicated().sum())"
      ]
    },
    {
      "cell_type": "markdown",
      "metadata": {
        "id": "rE6frfFBBEna"
      },
      "source": [
        "#Cleaning Data\n"
      ]
    },
    {
      "cell_type": "markdown",
      "metadata": {
        "id": "CwfwAWPYBIvj"
      },
      "source": [
        "insight:\n",
        "- tidak perlu untuk di Cleaning karena data sudah bagus, namun perlu di namai ulang biar gampang dibaca.\n"
      ]
    },
    {
      "cell_type": "code",
      "execution_count": 144,
      "metadata": {
        "id": "8XxCEe7CJ4E4"
      },
      "outputs": [],
      "source": [
        "day.rename(columns={\"yr\":\"year\", \"mnth\":\"month\", \"weathersit\":\"weather_situation\", \"atemp\":\"average_temp\", \"hum\":\"humidity\", \"cnt\":\"total\"}, inplace=True)"
      ]
    },
    {
      "cell_type": "code",
      "execution_count": 145,
      "metadata": {
        "id": "JtlG7IEJKmqf"
      },
      "outputs": [],
      "source": [
        "hour.rename(columns={\"yr\":\"year\", \"mnth\":\"month\", \"weathersit\":\"weather_situation\", \"hr\":\"hour\", \"atemp\":\"average_temp\", \"hum\":\"humidity\", \"cnt\":\"total\"}, inplace=True)"
      ]
    },
    {
      "cell_type": "code",
      "execution_count": 146,
      "metadata": {
        "id": "x229WuLHLISo"
      },
      "outputs": [],
      "source": [
        "#Mengubah tipe data dteday menjadi datetime\n",
        "day[\"dteday\"] = pd.to_datetime(day[\"dteday\"])\n",
        "hour[\"dteday\"] = pd.to_datetime(hour[\"dteday\"])\n"
      ]
    },
    {
      "cell_type": "code",
      "execution_count": 147,
      "metadata": {
        "id": "D_v5urUXMIy_"
      },
      "outputs": [],
      "source": [
        "def change_season(season):\n",
        "    if season == 1:\n",
        "        return \"spring\"\n",
        "    elif season == 2:\n",
        "        return \"summer\"\n",
        "    elif season == 3:\n",
        "        return \"fall\"\n",
        "    elif season == 4:\n",
        "        return \"winter\"\n",
        "\n",
        "day[\"season\"] = day[\"season\"].apply(change_season)\n",
        "hour[\"season\"] = hour[\"season\"].apply(change_season)"
      ]
    },
    {
      "cell_type": "code",
      "execution_count": 148,
      "metadata": {
        "id": "-_fjosSwMrn8"
      },
      "outputs": [],
      "source": [
        "def change_year(year):\n",
        "  if year==0:\n",
        "    return 2011\n",
        "  elif year ==1:\n",
        "      return 2012\n",
        "\n",
        "day[\"year\"] = day[\"year\"].apply(change_year)\n",
        "hour[\"year\"] = hour[\"year\"].apply(change_year)"
      ]
    },
    {
      "cell_type": "code",
      "execution_count": 149,
      "metadata": {
        "id": "aoSnrFuvP0s5"
      },
      "outputs": [],
      "source": [
        "def change_month(month):\n",
        "  if month==1:\n",
        "    return \"January\"\n",
        "  elif month ==2:\n",
        "      return \"February\"\n",
        "  elif month ==3:\n",
        "      return \"March\"\n",
        "  elif month ==4:\n",
        "      return \"April\"\n",
        "  elif month ==5:\n",
        "      return \"May\"\n",
        "  elif month ==6:\n",
        "      return \"June\"\n",
        "  elif month ==7:\n",
        "      return \"July\"\n",
        "  elif month ==8:\n",
        "      return \"August\"\n",
        "  elif month ==9:\n",
        "      return \"September\"\n",
        "  elif month ==10:\n",
        "      return \"October\"\n",
        "  elif month ==11:\n",
        "      return \"November\"\n",
        "  elif month ==12:\n",
        "      return \"December\"\n",
        "\n",
        "day[\"month\"] = day[\"month\"].apply(change_month)\n",
        "hour[\"month\"] = hour[\"month\"].apply(change_month)"
      ]
    },
    {
      "cell_type": "code",
      "execution_count": 150,
      "metadata": {
        "colab": {
          "base_uri": "https://localhost:8080/"
        },
        "id": "Pq7DYAYMQvVu",
        "outputId": "4b84412f-cfe1-4ca0-fd97-c29a20fb1335"
      },
      "outputs": [
        {
          "name": "stdout",
          "output_type": "stream",
          "text": [
            "Unique values for 'holiday' column in 'day' dataset:\n",
            "[0 1]\n",
            "\n",
            "Unique values for 'weekday' column in 'day' dataset:\n",
            "[6 0 1 2 3 4 5]\n",
            "\n",
            "Unique values for 'holiday' column in 'hour' dataset:\n",
            "[0 1]\n",
            "\n",
            "Unique values for 'weekday' column in 'hour' dataset:\n",
            "[6 0 1 2 3 4 5]\n"
          ]
        }
      ],
      "source": [
        "# prompt: value unik dari kolom holiday dan weekday\n",
        "\n",
        "print(f\"Unique values for 'holiday' column in 'day' dataset:\\n{day['holiday'].unique()}\")\n",
        "print(f\"\\nUnique values for 'weekday' column in 'day' dataset:\\n{day['weekday'].unique()}\")\n",
        "print(f\"\\nUnique values for 'holiday' column in 'hour' dataset:\\n{hour['holiday'].unique()}\")\n",
        "print(f\"\\nUnique values for 'weekday' column in 'hour' dataset:\\n{hour['weekday'].unique()}\")\n"
      ]
    },
    {
      "cell_type": "code",
      "execution_count": 151,
      "metadata": {
        "id": "HIBYcrCPRDcs"
      },
      "outputs": [],
      "source": [
        "def change_weekday(weekday):\n",
        "  if weekday==0:\n",
        "    return \"Sunday\"\n",
        "  elif weekday ==1:\n",
        "      return \"Monday\"\n",
        "  elif weekday ==2:\n",
        "      return \"Tuesday\"\n",
        "  elif weekday ==3:\n",
        "      return \"Wednesday\"\n",
        "  elif weekday ==4:\n",
        "      return \"Thursday\"\n",
        "  elif weekday ==5:\n",
        "      return \"Friday\"\n",
        "  elif weekday ==6:\n",
        "      return \"Saturday\"\n",
        "\n",
        "day[\"weekday\"] = day[\"weekday\"].apply(change_weekday)\n",
        "hour[\"weekday\"] = hour[\"weekday\"].apply(change_weekday)"
      ]
    },
    {
      "cell_type": "code",
      "execution_count": 152,
      "metadata": {
        "id": "eEFYwxacRYTe"
      },
      "outputs": [],
      "source": [
        "day.drop(\"holiday\", axis=1, inplace=True)\n",
        "hour.drop(\"holiday\", axis=1, inplace=True)"
      ]
    },
    {
      "cell_type": "code",
      "execution_count": 153,
      "metadata": {
        "colab": {
          "base_uri": "https://localhost:8080/"
        },
        "id": "ZGhqa5YdSbPU",
        "outputId": "55a61258-decc-46d2-cc32-a0aba1c2365d"
      },
      "outputs": [
        {
          "data": {
            "text/plain": [
              "array([1, 2, 3, 4])"
            ]
          },
          "execution_count": 153,
          "metadata": {},
          "output_type": "execute_result"
        }
      ],
      "source": [
        "hour[\"weather_situation\"].unique()"
      ]
    },
    {
      "cell_type": "code",
      "execution_count": 154,
      "metadata": {
        "id": "JhBNTEN3SwoQ"
      },
      "outputs": [],
      "source": [
        "def change_weather_situation(weather_situation):\n",
        "  if weather_situation==1:\n",
        "    return \"Clear\"\n",
        "  elif weather_situation ==2:\n",
        "      return \"Mist\"\n",
        "  elif weather_situation ==3:\n",
        "      return \"Light Snow\"\n",
        "  elif weather_situation ==4:\n",
        "      return \"Heavy Rain\"\n",
        "\n",
        "day[\"weather_situation\"] = day[\"weather_situation\"].apply(change_weather_situation)\n",
        "hour[\"weather_situation\"] = hour[\"weather_situation\"].apply(change_weather_situation)"
      ]
    },
    {
      "cell_type": "code",
      "execution_count": 155,
      "metadata": {
        "colab": {
          "base_uri": "https://localhost:8080/"
        },
        "id": "Vc4rRfuCTB98",
        "outputId": "2f433e05-1454-481b-de5e-390d9f624dae"
      },
      "outputs": [
        {
          "data": {
            "text/plain": [
              "array([0, 1])"
            ]
          },
          "execution_count": 155,
          "metadata": {},
          "output_type": "execute_result"
        }
      ],
      "source": [
        "hour[\"workingday\"].unique()"
      ]
    },
    {
      "cell_type": "code",
      "execution_count": 156,
      "metadata": {
        "id": "YxoS8VQ5VOx5"
      },
      "outputs": [],
      "source": [
        "def workingday(workingday):\n",
        "  if workingday==1:\n",
        "    return \"Workingday\"\n",
        "  elif workingday ==0:\n",
        "      return \"Holiday\"\n",
        "\n",
        "day[\"workingday\"] = day[\"workingday\"].apply(workingday)\n",
        "hour[\"workingday\"] = hour[\"workingday\"].apply(workingday)"
      ]
    },
    {
      "cell_type": "code",
      "execution_count": 157,
      "metadata": {
        "colab": {
          "base_uri": "https://localhost:8080/"
        },
        "id": "HQmGv5D-VoSd",
        "outputId": "f32ece66-8047-4467-9764-ee08254e936f"
      },
      "outputs": [
        {
          "data": {
            "text/plain": [
              "array([    1,     2,     3, ..., 17377, 17378, 17379], shape=(17379,))"
            ]
          },
          "execution_count": 157,
          "metadata": {},
          "output_type": "execute_result"
        }
      ],
      "source": [
        "hour[\"instant\"].unique()"
      ]
    },
    {
      "cell_type": "code",
      "execution_count": 158,
      "metadata": {
        "id": "8ZwcZerwVtFV"
      },
      "outputs": [],
      "source": [
        "hour.drop(\"instant\", axis=1, inplace=True)\n",
        "day.drop(\"instant\", axis=1, inplace=True)"
      ]
    },
    {
      "cell_type": "code",
      "execution_count": 159,
      "metadata": {
        "colab": {
          "base_uri": "https://localhost:8080/"
        },
        "id": "paU3ew1RWAAo",
        "outputId": "78ade16d-875e-480f-9e46-ec85125998f5"
      },
      "outputs": [
        {
          "name": "stdout",
          "output_type": "stream",
          "text": [
            "<class 'pandas.core.frame.DataFrame'>\n",
            "RangeIndex: 17379 entries, 0 to 17378\n",
            "Data columns (total 15 columns):\n",
            " #   Column             Non-Null Count  Dtype         \n",
            "---  ------             --------------  -----         \n",
            " 0   dteday             17379 non-null  datetime64[ns]\n",
            " 1   season             17379 non-null  object        \n",
            " 2   year               17379 non-null  int64         \n",
            " 3   month              17379 non-null  object        \n",
            " 4   hour               17379 non-null  int64         \n",
            " 5   weekday            17379 non-null  object        \n",
            " 6   workingday         17379 non-null  object        \n",
            " 7   weather_situation  17379 non-null  object        \n",
            " 8   temp               17379 non-null  float64       \n",
            " 9   average_temp       17379 non-null  float64       \n",
            " 10  humidity           17379 non-null  float64       \n",
            " 11  windspeed          17379 non-null  float64       \n",
            " 12  casual             17379 non-null  int64         \n",
            " 13  registered         17379 non-null  int64         \n",
            " 14  total              17379 non-null  int64         \n",
            "dtypes: datetime64[ns](1), float64(4), int64(5), object(5)\n",
            "memory usage: 2.0+ MB\n"
          ]
        }
      ],
      "source": [
        "hour.info()"
      ]
    },
    {
      "cell_type": "code",
      "execution_count": 160,
      "metadata": {
        "colab": {
          "base_uri": "https://localhost:8080/",
          "height": 313
        },
        "id": "FLcUY5jDMm9K",
        "outputId": "bbef922c-7a0f-425a-e829-13e23da35efa"
      },
      "outputs": [
        {
          "data": {
            "text/html": [
              "<div>\n",
              "<style scoped>\n",
              "    .dataframe tbody tr th:only-of-type {\n",
              "        vertical-align: middle;\n",
              "    }\n",
              "\n",
              "    .dataframe tbody tr th {\n",
              "        vertical-align: top;\n",
              "    }\n",
              "\n",
              "    .dataframe thead th {\n",
              "        text-align: right;\n",
              "    }\n",
              "</style>\n",
              "<table border=\"1\" class=\"dataframe\">\n",
              "  <thead>\n",
              "    <tr style=\"text-align: right;\">\n",
              "      <th></th>\n",
              "      <th>dteday</th>\n",
              "      <th>season</th>\n",
              "      <th>year</th>\n",
              "      <th>month</th>\n",
              "      <th>hour</th>\n",
              "      <th>weekday</th>\n",
              "      <th>workingday</th>\n",
              "      <th>weather_situation</th>\n",
              "      <th>temp</th>\n",
              "      <th>average_temp</th>\n",
              "      <th>humidity</th>\n",
              "      <th>windspeed</th>\n",
              "      <th>casual</th>\n",
              "      <th>registered</th>\n",
              "      <th>total</th>\n",
              "    </tr>\n",
              "  </thead>\n",
              "  <tbody>\n",
              "    <tr>\n",
              "      <th>0</th>\n",
              "      <td>2011-01-01</td>\n",
              "      <td>spring</td>\n",
              "      <td>2011</td>\n",
              "      <td>January</td>\n",
              "      <td>0</td>\n",
              "      <td>Saturday</td>\n",
              "      <td>Holiday</td>\n",
              "      <td>Clear</td>\n",
              "      <td>0.24</td>\n",
              "      <td>0.2879</td>\n",
              "      <td>0.81</td>\n",
              "      <td>0.0</td>\n",
              "      <td>3</td>\n",
              "      <td>13</td>\n",
              "      <td>16</td>\n",
              "    </tr>\n",
              "    <tr>\n",
              "      <th>1</th>\n",
              "      <td>2011-01-01</td>\n",
              "      <td>spring</td>\n",
              "      <td>2011</td>\n",
              "      <td>January</td>\n",
              "      <td>1</td>\n",
              "      <td>Saturday</td>\n",
              "      <td>Holiday</td>\n",
              "      <td>Clear</td>\n",
              "      <td>0.22</td>\n",
              "      <td>0.2727</td>\n",
              "      <td>0.80</td>\n",
              "      <td>0.0</td>\n",
              "      <td>8</td>\n",
              "      <td>32</td>\n",
              "      <td>40</td>\n",
              "    </tr>\n",
              "    <tr>\n",
              "      <th>2</th>\n",
              "      <td>2011-01-01</td>\n",
              "      <td>spring</td>\n",
              "      <td>2011</td>\n",
              "      <td>January</td>\n",
              "      <td>2</td>\n",
              "      <td>Saturday</td>\n",
              "      <td>Holiday</td>\n",
              "      <td>Clear</td>\n",
              "      <td>0.22</td>\n",
              "      <td>0.2727</td>\n",
              "      <td>0.80</td>\n",
              "      <td>0.0</td>\n",
              "      <td>5</td>\n",
              "      <td>27</td>\n",
              "      <td>32</td>\n",
              "    </tr>\n",
              "    <tr>\n",
              "      <th>3</th>\n",
              "      <td>2011-01-01</td>\n",
              "      <td>spring</td>\n",
              "      <td>2011</td>\n",
              "      <td>January</td>\n",
              "      <td>3</td>\n",
              "      <td>Saturday</td>\n",
              "      <td>Holiday</td>\n",
              "      <td>Clear</td>\n",
              "      <td>0.24</td>\n",
              "      <td>0.2879</td>\n",
              "      <td>0.75</td>\n",
              "      <td>0.0</td>\n",
              "      <td>3</td>\n",
              "      <td>10</td>\n",
              "      <td>13</td>\n",
              "    </tr>\n",
              "    <tr>\n",
              "      <th>4</th>\n",
              "      <td>2011-01-01</td>\n",
              "      <td>spring</td>\n",
              "      <td>2011</td>\n",
              "      <td>January</td>\n",
              "      <td>4</td>\n",
              "      <td>Saturday</td>\n",
              "      <td>Holiday</td>\n",
              "      <td>Clear</td>\n",
              "      <td>0.24</td>\n",
              "      <td>0.2879</td>\n",
              "      <td>0.75</td>\n",
              "      <td>0.0</td>\n",
              "      <td>0</td>\n",
              "      <td>1</td>\n",
              "      <td>1</td>\n",
              "    </tr>\n",
              "  </tbody>\n",
              "</table>\n",
              "</div>"
            ],
            "text/plain": [
              "      dteday  season  year    month  hour   weekday workingday  \\\n",
              "0 2011-01-01  spring  2011  January     0  Saturday    Holiday   \n",
              "1 2011-01-01  spring  2011  January     1  Saturday    Holiday   \n",
              "2 2011-01-01  spring  2011  January     2  Saturday    Holiday   \n",
              "3 2011-01-01  spring  2011  January     3  Saturday    Holiday   \n",
              "4 2011-01-01  spring  2011  January     4  Saturday    Holiday   \n",
              "\n",
              "  weather_situation  temp  average_temp  humidity  windspeed  casual  \\\n",
              "0             Clear  0.24        0.2879      0.81        0.0       3   \n",
              "1             Clear  0.22        0.2727      0.80        0.0       8   \n",
              "2             Clear  0.22        0.2727      0.80        0.0       5   \n",
              "3             Clear  0.24        0.2879      0.75        0.0       3   \n",
              "4             Clear  0.24        0.2879      0.75        0.0       0   \n",
              "\n",
              "   registered  total  \n",
              "0          13     16  \n",
              "1          32     40  \n",
              "2          27     32  \n",
              "3          10     13  \n",
              "4           1      1  "
            ]
          },
          "execution_count": 160,
          "metadata": {},
          "output_type": "execute_result"
        }
      ],
      "source": [
        "hour.head()"
      ]
    },
    {
      "cell_type": "markdown",
      "metadata": {
        "id": "m0IhJUehBL7J"
      },
      "source": [
        "#Exploratory Data Analysis (EDA)"
      ]
    },
    {
      "cell_type": "markdown",
      "metadata": {
        "id": "PcNBaGqvBSoc"
      },
      "source": [
        "#Explore"
      ]
    },
    {
      "cell_type": "code",
      "execution_count": 161,
      "metadata": {
        "colab": {
          "base_uri": "https://localhost:8080/",
          "height": 622
        },
        "id": "00Ccl0SNBVOz",
        "outputId": "8c1bf3d3-63fe-4273-f810-5206ed8863ba"
      },
      "outputs": [
        {
          "data": {
            "text/html": [
              "<div>\n",
              "<style scoped>\n",
              "    .dataframe tbody tr th:only-of-type {\n",
              "        vertical-align: middle;\n",
              "    }\n",
              "\n",
              "    .dataframe tbody tr th {\n",
              "        vertical-align: top;\n",
              "    }\n",
              "\n",
              "    .dataframe thead th {\n",
              "        text-align: right;\n",
              "    }\n",
              "</style>\n",
              "<table border=\"1\" class=\"dataframe\">\n",
              "  <thead>\n",
              "    <tr style=\"text-align: right;\">\n",
              "      <th></th>\n",
              "      <th>dteday</th>\n",
              "      <th>season</th>\n",
              "      <th>year</th>\n",
              "      <th>month</th>\n",
              "      <th>weekday</th>\n",
              "      <th>workingday</th>\n",
              "      <th>weather_situation</th>\n",
              "      <th>temp</th>\n",
              "      <th>average_temp</th>\n",
              "      <th>humidity</th>\n",
              "      <th>windspeed</th>\n",
              "      <th>casual</th>\n",
              "      <th>registered</th>\n",
              "      <th>total</th>\n",
              "    </tr>\n",
              "  </thead>\n",
              "  <tbody>\n",
              "    <tr>\n",
              "      <th>count</th>\n",
              "      <td>731</td>\n",
              "      <td>731</td>\n",
              "      <td>731.000000</td>\n",
              "      <td>731</td>\n",
              "      <td>731</td>\n",
              "      <td>731</td>\n",
              "      <td>731</td>\n",
              "      <td>731.000000</td>\n",
              "      <td>731.000000</td>\n",
              "      <td>731.000000</td>\n",
              "      <td>731.000000</td>\n",
              "      <td>731.000000</td>\n",
              "      <td>731.000000</td>\n",
              "      <td>731.000000</td>\n",
              "    </tr>\n",
              "    <tr>\n",
              "      <th>unique</th>\n",
              "      <td>NaN</td>\n",
              "      <td>4</td>\n",
              "      <td>NaN</td>\n",
              "      <td>12</td>\n",
              "      <td>7</td>\n",
              "      <td>2</td>\n",
              "      <td>3</td>\n",
              "      <td>NaN</td>\n",
              "      <td>NaN</td>\n",
              "      <td>NaN</td>\n",
              "      <td>NaN</td>\n",
              "      <td>NaN</td>\n",
              "      <td>NaN</td>\n",
              "      <td>NaN</td>\n",
              "    </tr>\n",
              "    <tr>\n",
              "      <th>top</th>\n",
              "      <td>NaN</td>\n",
              "      <td>fall</td>\n",
              "      <td>NaN</td>\n",
              "      <td>January</td>\n",
              "      <td>Saturday</td>\n",
              "      <td>Workingday</td>\n",
              "      <td>Clear</td>\n",
              "      <td>NaN</td>\n",
              "      <td>NaN</td>\n",
              "      <td>NaN</td>\n",
              "      <td>NaN</td>\n",
              "      <td>NaN</td>\n",
              "      <td>NaN</td>\n",
              "      <td>NaN</td>\n",
              "    </tr>\n",
              "    <tr>\n",
              "      <th>freq</th>\n",
              "      <td>NaN</td>\n",
              "      <td>188</td>\n",
              "      <td>NaN</td>\n",
              "      <td>62</td>\n",
              "      <td>105</td>\n",
              "      <td>500</td>\n",
              "      <td>463</td>\n",
              "      <td>NaN</td>\n",
              "      <td>NaN</td>\n",
              "      <td>NaN</td>\n",
              "      <td>NaN</td>\n",
              "      <td>NaN</td>\n",
              "      <td>NaN</td>\n",
              "      <td>NaN</td>\n",
              "    </tr>\n",
              "    <tr>\n",
              "      <th>mean</th>\n",
              "      <td>2012-01-01 00:00:00</td>\n",
              "      <td>NaN</td>\n",
              "      <td>2011.500684</td>\n",
              "      <td>NaN</td>\n",
              "      <td>NaN</td>\n",
              "      <td>NaN</td>\n",
              "      <td>NaN</td>\n",
              "      <td>0.495385</td>\n",
              "      <td>0.474354</td>\n",
              "      <td>0.627894</td>\n",
              "      <td>0.190486</td>\n",
              "      <td>848.176471</td>\n",
              "      <td>3656.172367</td>\n",
              "      <td>4504.348837</td>\n",
              "    </tr>\n",
              "    <tr>\n",
              "      <th>min</th>\n",
              "      <td>2011-01-01 00:00:00</td>\n",
              "      <td>NaN</td>\n",
              "      <td>2011.000000</td>\n",
              "      <td>NaN</td>\n",
              "      <td>NaN</td>\n",
              "      <td>NaN</td>\n",
              "      <td>NaN</td>\n",
              "      <td>0.059130</td>\n",
              "      <td>0.079070</td>\n",
              "      <td>0.000000</td>\n",
              "      <td>0.022392</td>\n",
              "      <td>2.000000</td>\n",
              "      <td>20.000000</td>\n",
              "      <td>22.000000</td>\n",
              "    </tr>\n",
              "    <tr>\n",
              "      <th>25%</th>\n",
              "      <td>2011-07-02 12:00:00</td>\n",
              "      <td>NaN</td>\n",
              "      <td>2011.000000</td>\n",
              "      <td>NaN</td>\n",
              "      <td>NaN</td>\n",
              "      <td>NaN</td>\n",
              "      <td>NaN</td>\n",
              "      <td>0.337083</td>\n",
              "      <td>0.337842</td>\n",
              "      <td>0.520000</td>\n",
              "      <td>0.134950</td>\n",
              "      <td>315.500000</td>\n",
              "      <td>2497.000000</td>\n",
              "      <td>3152.000000</td>\n",
              "    </tr>\n",
              "    <tr>\n",
              "      <th>50%</th>\n",
              "      <td>2012-01-01 00:00:00</td>\n",
              "      <td>NaN</td>\n",
              "      <td>2012.000000</td>\n",
              "      <td>NaN</td>\n",
              "      <td>NaN</td>\n",
              "      <td>NaN</td>\n",
              "      <td>NaN</td>\n",
              "      <td>0.498333</td>\n",
              "      <td>0.486733</td>\n",
              "      <td>0.626667</td>\n",
              "      <td>0.180975</td>\n",
              "      <td>713.000000</td>\n",
              "      <td>3662.000000</td>\n",
              "      <td>4548.000000</td>\n",
              "    </tr>\n",
              "    <tr>\n",
              "      <th>75%</th>\n",
              "      <td>2012-07-01 12:00:00</td>\n",
              "      <td>NaN</td>\n",
              "      <td>2012.000000</td>\n",
              "      <td>NaN</td>\n",
              "      <td>NaN</td>\n",
              "      <td>NaN</td>\n",
              "      <td>NaN</td>\n",
              "      <td>0.655417</td>\n",
              "      <td>0.608602</td>\n",
              "      <td>0.730209</td>\n",
              "      <td>0.233214</td>\n",
              "      <td>1096.000000</td>\n",
              "      <td>4776.500000</td>\n",
              "      <td>5956.000000</td>\n",
              "    </tr>\n",
              "    <tr>\n",
              "      <th>max</th>\n",
              "      <td>2012-12-31 00:00:00</td>\n",
              "      <td>NaN</td>\n",
              "      <td>2012.000000</td>\n",
              "      <td>NaN</td>\n",
              "      <td>NaN</td>\n",
              "      <td>NaN</td>\n",
              "      <td>NaN</td>\n",
              "      <td>0.861667</td>\n",
              "      <td>0.840896</td>\n",
              "      <td>0.972500</td>\n",
              "      <td>0.507463</td>\n",
              "      <td>3410.000000</td>\n",
              "      <td>6946.000000</td>\n",
              "      <td>8714.000000</td>\n",
              "    </tr>\n",
              "    <tr>\n",
              "      <th>std</th>\n",
              "      <td>NaN</td>\n",
              "      <td>NaN</td>\n",
              "      <td>0.500342</td>\n",
              "      <td>NaN</td>\n",
              "      <td>NaN</td>\n",
              "      <td>NaN</td>\n",
              "      <td>NaN</td>\n",
              "      <td>0.183051</td>\n",
              "      <td>0.162961</td>\n",
              "      <td>0.142429</td>\n",
              "      <td>0.077498</td>\n",
              "      <td>686.622488</td>\n",
              "      <td>1560.256377</td>\n",
              "      <td>1937.211452</td>\n",
              "    </tr>\n",
              "  </tbody>\n",
              "</table>\n",
              "</div>"
            ],
            "text/plain": [
              "                     dteday season         year    month   weekday  \\\n",
              "count                   731    731   731.000000      731       731   \n",
              "unique                  NaN      4          NaN       12         7   \n",
              "top                     NaN   fall          NaN  January  Saturday   \n",
              "freq                    NaN    188          NaN       62       105   \n",
              "mean    2012-01-01 00:00:00    NaN  2011.500684      NaN       NaN   \n",
              "min     2011-01-01 00:00:00    NaN  2011.000000      NaN       NaN   \n",
              "25%     2011-07-02 12:00:00    NaN  2011.000000      NaN       NaN   \n",
              "50%     2012-01-01 00:00:00    NaN  2012.000000      NaN       NaN   \n",
              "75%     2012-07-01 12:00:00    NaN  2012.000000      NaN       NaN   \n",
              "max     2012-12-31 00:00:00    NaN  2012.000000      NaN       NaN   \n",
              "std                     NaN    NaN     0.500342      NaN       NaN   \n",
              "\n",
              "        workingday weather_situation        temp  average_temp    humidity  \\\n",
              "count          731               731  731.000000    731.000000  731.000000   \n",
              "unique           2                 3         NaN           NaN         NaN   \n",
              "top     Workingday             Clear         NaN           NaN         NaN   \n",
              "freq           500               463         NaN           NaN         NaN   \n",
              "mean           NaN               NaN    0.495385      0.474354    0.627894   \n",
              "min            NaN               NaN    0.059130      0.079070    0.000000   \n",
              "25%            NaN               NaN    0.337083      0.337842    0.520000   \n",
              "50%            NaN               NaN    0.498333      0.486733    0.626667   \n",
              "75%            NaN               NaN    0.655417      0.608602    0.730209   \n",
              "max            NaN               NaN    0.861667      0.840896    0.972500   \n",
              "std            NaN               NaN    0.183051      0.162961    0.142429   \n",
              "\n",
              "         windspeed       casual   registered        total  \n",
              "count   731.000000   731.000000   731.000000   731.000000  \n",
              "unique         NaN          NaN          NaN          NaN  \n",
              "top            NaN          NaN          NaN          NaN  \n",
              "freq           NaN          NaN          NaN          NaN  \n",
              "mean      0.190486   848.176471  3656.172367  4504.348837  \n",
              "min       0.022392     2.000000    20.000000    22.000000  \n",
              "25%       0.134950   315.500000  2497.000000  3152.000000  \n",
              "50%       0.180975   713.000000  3662.000000  4548.000000  \n",
              "75%       0.233214  1096.000000  4776.500000  5956.000000  \n",
              "max       0.507463  3410.000000  6946.000000  8714.000000  \n",
              "std       0.077498   686.622488  1560.256377  1937.211452  "
            ]
          },
          "execution_count": 161,
          "metadata": {},
          "output_type": "execute_result"
        }
      ],
      "source": [
        "day.describe(include='all')"
      ]
    },
    {
      "cell_type": "code",
      "execution_count": 162,
      "metadata": {
        "colab": {
          "base_uri": "https://localhost:8080/",
          "height": 518
        },
        "id": "hASOOp4Y4DEl",
        "outputId": "3d0a8cc4-5097-4261-ef2b-1f9af3d6ebea"
      },
      "outputs": [
        {
          "data": {
            "text/html": [
              "<div>\n",
              "<style scoped>\n",
              "    .dataframe tbody tr th:only-of-type {\n",
              "        vertical-align: middle;\n",
              "    }\n",
              "\n",
              "    .dataframe tbody tr th {\n",
              "        vertical-align: top;\n",
              "    }\n",
              "\n",
              "    .dataframe thead th {\n",
              "        text-align: right;\n",
              "    }\n",
              "</style>\n",
              "<table border=\"1\" class=\"dataframe\">\n",
              "  <thead>\n",
              "    <tr style=\"text-align: right;\">\n",
              "      <th></th>\n",
              "      <th>dteday</th>\n",
              "      <th>season</th>\n",
              "      <th>year</th>\n",
              "      <th>month</th>\n",
              "      <th>hour</th>\n",
              "      <th>weekday</th>\n",
              "      <th>workingday</th>\n",
              "      <th>weather_situation</th>\n",
              "      <th>temp</th>\n",
              "      <th>average_temp</th>\n",
              "      <th>humidity</th>\n",
              "      <th>windspeed</th>\n",
              "      <th>casual</th>\n",
              "      <th>registered</th>\n",
              "      <th>total</th>\n",
              "    </tr>\n",
              "  </thead>\n",
              "  <tbody>\n",
              "    <tr>\n",
              "      <th>count</th>\n",
              "      <td>17379</td>\n",
              "      <td>17379</td>\n",
              "      <td>17379.000000</td>\n",
              "      <td>17379</td>\n",
              "      <td>17379.000000</td>\n",
              "      <td>17379</td>\n",
              "      <td>17379</td>\n",
              "      <td>17379</td>\n",
              "      <td>17379.000000</td>\n",
              "      <td>17379.000000</td>\n",
              "      <td>17379.000000</td>\n",
              "      <td>17379.000000</td>\n",
              "      <td>17379.000000</td>\n",
              "      <td>17379.000000</td>\n",
              "      <td>17379.000000</td>\n",
              "    </tr>\n",
              "    <tr>\n",
              "      <th>unique</th>\n",
              "      <td>NaN</td>\n",
              "      <td>4</td>\n",
              "      <td>NaN</td>\n",
              "      <td>12</td>\n",
              "      <td>NaN</td>\n",
              "      <td>7</td>\n",
              "      <td>2</td>\n",
              "      <td>4</td>\n",
              "      <td>NaN</td>\n",
              "      <td>NaN</td>\n",
              "      <td>NaN</td>\n",
              "      <td>NaN</td>\n",
              "      <td>NaN</td>\n",
              "      <td>NaN</td>\n",
              "      <td>NaN</td>\n",
              "    </tr>\n",
              "    <tr>\n",
              "      <th>top</th>\n",
              "      <td>NaN</td>\n",
              "      <td>fall</td>\n",
              "      <td>NaN</td>\n",
              "      <td>July</td>\n",
              "      <td>NaN</td>\n",
              "      <td>Saturday</td>\n",
              "      <td>Workingday</td>\n",
              "      <td>Clear</td>\n",
              "      <td>NaN</td>\n",
              "      <td>NaN</td>\n",
              "      <td>NaN</td>\n",
              "      <td>NaN</td>\n",
              "      <td>NaN</td>\n",
              "      <td>NaN</td>\n",
              "      <td>NaN</td>\n",
              "    </tr>\n",
              "    <tr>\n",
              "      <th>freq</th>\n",
              "      <td>NaN</td>\n",
              "      <td>4496</td>\n",
              "      <td>NaN</td>\n",
              "      <td>1488</td>\n",
              "      <td>NaN</td>\n",
              "      <td>2512</td>\n",
              "      <td>11865</td>\n",
              "      <td>11413</td>\n",
              "      <td>NaN</td>\n",
              "      <td>NaN</td>\n",
              "      <td>NaN</td>\n",
              "      <td>NaN</td>\n",
              "      <td>NaN</td>\n",
              "      <td>NaN</td>\n",
              "      <td>NaN</td>\n",
              "    </tr>\n",
              "    <tr>\n",
              "      <th>mean</th>\n",
              "      <td>2012-01-02 04:08:34.552045568</td>\n",
              "      <td>NaN</td>\n",
              "      <td>2011.502561</td>\n",
              "      <td>NaN</td>\n",
              "      <td>11.546752</td>\n",
              "      <td>NaN</td>\n",
              "      <td>NaN</td>\n",
              "      <td>NaN</td>\n",
              "      <td>0.496987</td>\n",
              "      <td>0.475775</td>\n",
              "      <td>0.627229</td>\n",
              "      <td>0.190098</td>\n",
              "      <td>35.676218</td>\n",
              "      <td>153.786869</td>\n",
              "      <td>189.463088</td>\n",
              "    </tr>\n",
              "    <tr>\n",
              "      <th>min</th>\n",
              "      <td>2011-01-01 00:00:00</td>\n",
              "      <td>NaN</td>\n",
              "      <td>2011.000000</td>\n",
              "      <td>NaN</td>\n",
              "      <td>0.000000</td>\n",
              "      <td>NaN</td>\n",
              "      <td>NaN</td>\n",
              "      <td>NaN</td>\n",
              "      <td>0.020000</td>\n",
              "      <td>0.000000</td>\n",
              "      <td>0.000000</td>\n",
              "      <td>0.000000</td>\n",
              "      <td>0.000000</td>\n",
              "      <td>0.000000</td>\n",
              "      <td>1.000000</td>\n",
              "    </tr>\n",
              "    <tr>\n",
              "      <th>25%</th>\n",
              "      <td>2011-07-04 00:00:00</td>\n",
              "      <td>NaN</td>\n",
              "      <td>2011.000000</td>\n",
              "      <td>NaN</td>\n",
              "      <td>6.000000</td>\n",
              "      <td>NaN</td>\n",
              "      <td>NaN</td>\n",
              "      <td>NaN</td>\n",
              "      <td>0.340000</td>\n",
              "      <td>0.333300</td>\n",
              "      <td>0.480000</td>\n",
              "      <td>0.104500</td>\n",
              "      <td>4.000000</td>\n",
              "      <td>34.000000</td>\n",
              "      <td>40.000000</td>\n",
              "    </tr>\n",
              "    <tr>\n",
              "      <th>50%</th>\n",
              "      <td>2012-01-02 00:00:00</td>\n",
              "      <td>NaN</td>\n",
              "      <td>2012.000000</td>\n",
              "      <td>NaN</td>\n",
              "      <td>12.000000</td>\n",
              "      <td>NaN</td>\n",
              "      <td>NaN</td>\n",
              "      <td>NaN</td>\n",
              "      <td>0.500000</td>\n",
              "      <td>0.484800</td>\n",
              "      <td>0.630000</td>\n",
              "      <td>0.194000</td>\n",
              "      <td>17.000000</td>\n",
              "      <td>115.000000</td>\n",
              "      <td>142.000000</td>\n",
              "    </tr>\n",
              "    <tr>\n",
              "      <th>75%</th>\n",
              "      <td>2012-07-02 00:00:00</td>\n",
              "      <td>NaN</td>\n",
              "      <td>2012.000000</td>\n",
              "      <td>NaN</td>\n",
              "      <td>18.000000</td>\n",
              "      <td>NaN</td>\n",
              "      <td>NaN</td>\n",
              "      <td>NaN</td>\n",
              "      <td>0.660000</td>\n",
              "      <td>0.621200</td>\n",
              "      <td>0.780000</td>\n",
              "      <td>0.253700</td>\n",
              "      <td>48.000000</td>\n",
              "      <td>220.000000</td>\n",
              "      <td>281.000000</td>\n",
              "    </tr>\n",
              "    <tr>\n",
              "      <th>max</th>\n",
              "      <td>2012-12-31 00:00:00</td>\n",
              "      <td>NaN</td>\n",
              "      <td>2012.000000</td>\n",
              "      <td>NaN</td>\n",
              "      <td>23.000000</td>\n",
              "      <td>NaN</td>\n",
              "      <td>NaN</td>\n",
              "      <td>NaN</td>\n",
              "      <td>1.000000</td>\n",
              "      <td>1.000000</td>\n",
              "      <td>1.000000</td>\n",
              "      <td>0.850700</td>\n",
              "      <td>367.000000</td>\n",
              "      <td>886.000000</td>\n",
              "      <td>977.000000</td>\n",
              "    </tr>\n",
              "    <tr>\n",
              "      <th>std</th>\n",
              "      <td>NaN</td>\n",
              "      <td>NaN</td>\n",
              "      <td>0.500008</td>\n",
              "      <td>NaN</td>\n",
              "      <td>6.914405</td>\n",
              "      <td>NaN</td>\n",
              "      <td>NaN</td>\n",
              "      <td>NaN</td>\n",
              "      <td>0.192556</td>\n",
              "      <td>0.171850</td>\n",
              "      <td>0.192930</td>\n",
              "      <td>0.122340</td>\n",
              "      <td>49.305030</td>\n",
              "      <td>151.357286</td>\n",
              "      <td>181.387599</td>\n",
              "    </tr>\n",
              "  </tbody>\n",
              "</table>\n",
              "</div>"
            ],
            "text/plain": [
              "                               dteday season          year  month  \\\n",
              "count                           17379  17379  17379.000000  17379   \n",
              "unique                            NaN      4           NaN     12   \n",
              "top                               NaN   fall           NaN   July   \n",
              "freq                              NaN   4496           NaN   1488   \n",
              "mean    2012-01-02 04:08:34.552045568    NaN   2011.502561    NaN   \n",
              "min               2011-01-01 00:00:00    NaN   2011.000000    NaN   \n",
              "25%               2011-07-04 00:00:00    NaN   2011.000000    NaN   \n",
              "50%               2012-01-02 00:00:00    NaN   2012.000000    NaN   \n",
              "75%               2012-07-02 00:00:00    NaN   2012.000000    NaN   \n",
              "max               2012-12-31 00:00:00    NaN   2012.000000    NaN   \n",
              "std                               NaN    NaN      0.500008    NaN   \n",
              "\n",
              "                hour   weekday  workingday weather_situation          temp  \\\n",
              "count   17379.000000     17379       17379             17379  17379.000000   \n",
              "unique           NaN         7           2                 4           NaN   \n",
              "top              NaN  Saturday  Workingday             Clear           NaN   \n",
              "freq             NaN      2512       11865             11413           NaN   \n",
              "mean       11.546752       NaN         NaN               NaN      0.496987   \n",
              "min         0.000000       NaN         NaN               NaN      0.020000   \n",
              "25%         6.000000       NaN         NaN               NaN      0.340000   \n",
              "50%        12.000000       NaN         NaN               NaN      0.500000   \n",
              "75%        18.000000       NaN         NaN               NaN      0.660000   \n",
              "max        23.000000       NaN         NaN               NaN      1.000000   \n",
              "std         6.914405       NaN         NaN               NaN      0.192556   \n",
              "\n",
              "        average_temp      humidity     windspeed        casual    registered  \\\n",
              "count   17379.000000  17379.000000  17379.000000  17379.000000  17379.000000   \n",
              "unique           NaN           NaN           NaN           NaN           NaN   \n",
              "top              NaN           NaN           NaN           NaN           NaN   \n",
              "freq             NaN           NaN           NaN           NaN           NaN   \n",
              "mean        0.475775      0.627229      0.190098     35.676218    153.786869   \n",
              "min         0.000000      0.000000      0.000000      0.000000      0.000000   \n",
              "25%         0.333300      0.480000      0.104500      4.000000     34.000000   \n",
              "50%         0.484800      0.630000      0.194000     17.000000    115.000000   \n",
              "75%         0.621200      0.780000      0.253700     48.000000    220.000000   \n",
              "max         1.000000      1.000000      0.850700    367.000000    886.000000   \n",
              "std         0.171850      0.192930      0.122340     49.305030    151.357286   \n",
              "\n",
              "               total  \n",
              "count   17379.000000  \n",
              "unique           NaN  \n",
              "top              NaN  \n",
              "freq             NaN  \n",
              "mean      189.463088  \n",
              "min         1.000000  \n",
              "25%        40.000000  \n",
              "50%       142.000000  \n",
              "75%       281.000000  \n",
              "max       977.000000  \n",
              "std       181.387599  "
            ]
          },
          "execution_count": 162,
          "metadata": {},
          "output_type": "execute_result"
        }
      ],
      "source": [
        "hour.describe(include='all')"
      ]
    },
    {
      "cell_type": "code",
      "execution_count": 163,
      "metadata": {
        "colab": {
          "base_uri": "https://localhost:8080/",
          "height": 608
        },
        "id": "if27TOYh4J8F",
        "outputId": "f5edf7ef-e47b-411a-bfd7-764dcbb1a8de"
      },
      "outputs": [
        {
          "data": {
            "text/plain": [
              "array([[<Axes: title={'center': 'dteday'}>,\n",
              "        <Axes: title={'center': 'year'}>,\n",
              "        <Axes: title={'center': 'temp'}>],\n",
              "       [<Axes: title={'center': 'average_temp'}>,\n",
              "        <Axes: title={'center': 'humidity'}>,\n",
              "        <Axes: title={'center': 'windspeed'}>],\n",
              "       [<Axes: title={'center': 'casual'}>,\n",
              "        <Axes: title={'center': 'registered'}>,\n",
              "        <Axes: title={'center': 'total'}>]], dtype=object)"
            ]
          },
          "execution_count": 163,
          "metadata": {},
          "output_type": "execute_result"
        },
        {
          "data": {
            "image/png": "[encoded data removed]",
            "text/plain": [
              "<Figure size 640x480 with 9 Axes>"
            ]
          },
          "metadata": {},
          "output_type": "display_data"
        }
      ],
      "source": [
        "day.hist()"
      ]
    },
    {
      "cell_type": "code",
      "execution_count": 164,
      "metadata": {
        "colab": {
          "base_uri": "https://localhost:8080/",
          "height": 643
        },
        "id": "6mMBmIdn4PYI",
        "outputId": "7ec4cc2a-ba74-4bf8-f47d-4b1580dbae9d"
      },
      "outputs": [
        {
          "data": {
            "text/plain": [
              "array([[<Axes: title={'center': 'dteday'}>,\n",
              "        <Axes: title={'center': 'year'}>,\n",
              "        <Axes: title={'center': 'hour'}>],\n",
              "       [<Axes: title={'center': 'temp'}>,\n",
              "        <Axes: title={'center': 'average_temp'}>,\n",
              "        <Axes: title={'center': 'humidity'}>],\n",
              "       [<Axes: title={'center': 'windspeed'}>,\n",
              "        <Axes: title={'center': 'casual'}>,\n",
              "        <Axes: title={'center': 'registered'}>],\n",
              "       [<Axes: title={'center': 'total'}>, <Axes: >, <Axes: >]],\n",
              "      dtype=object)"
            ]
          },
          "execution_count": 164,
          "metadata": {},
          "output_type": "execute_result"
        },
        {
          "data": {
            "image/png": "[encoded data removed]",
            "text/plain": [
              "<Figure size 640x480 with 12 Axes>"
            ]
          },
          "metadata": {},
          "output_type": "display_data"
        }
      ],
      "source": [
        "hour.hist()"
      ]
    },
    {
      "cell_type": "markdown",
      "metadata": {
        "id": "cMzFxgSfBVna"
      },
      "source": [
        "#Explore data \"day\""
      ]
    },
    {
      "cell_type": "code",
      "execution_count": 165,
      "metadata": {
        "colab": {
          "base_uri": "https://localhost:8080/",
          "height": 206
        },
        "id": "dvSYaVCjTDp8",
        "outputId": "0c232b4c-cb94-4103-f928-a805e56ecb16"
      },
      "outputs": [
        {
          "data": {
            "text/html": [
              "<div>\n",
              "<style scoped>\n",
              "    .dataframe tbody tr th:only-of-type {\n",
              "        vertical-align: middle;\n",
              "    }\n",
              "\n",
              "    .dataframe tbody tr th {\n",
              "        vertical-align: top;\n",
              "    }\n",
              "\n",
              "    .dataframe thead th {\n",
              "        text-align: right;\n",
              "    }\n",
              "</style>\n",
              "<table border=\"1\" class=\"dataframe\">\n",
              "  <thead>\n",
              "    <tr style=\"text-align: right;\">\n",
              "      <th></th>\n",
              "      <th>casual</th>\n",
              "      <th>registered</th>\n",
              "      <th>total</th>\n",
              "    </tr>\n",
              "    <tr>\n",
              "      <th>season</th>\n",
              "      <th></th>\n",
              "      <th></th>\n",
              "      <th></th>\n",
              "    </tr>\n",
              "  </thead>\n",
              "  <tbody>\n",
              "    <tr>\n",
              "      <th>fall</th>\n",
              "      <td>226091</td>\n",
              "      <td>835038</td>\n",
              "      <td>1061129</td>\n",
              "    </tr>\n",
              "    <tr>\n",
              "      <th>summer</th>\n",
              "      <td>203522</td>\n",
              "      <td>715067</td>\n",
              "      <td>918589</td>\n",
              "    </tr>\n",
              "    <tr>\n",
              "      <th>winter</th>\n",
              "      <td>129782</td>\n",
              "      <td>711831</td>\n",
              "      <td>841613</td>\n",
              "    </tr>\n",
              "    <tr>\n",
              "      <th>spring</th>\n",
              "      <td>60622</td>\n",
              "      <td>410726</td>\n",
              "      <td>471348</td>\n",
              "    </tr>\n",
              "  </tbody>\n",
              "</table>\n",
              "</div>"
            ],
            "text/plain": [
              "        casual  registered    total\n",
              "season                             \n",
              "fall    226091      835038  1061129\n",
              "summer  203522      715067   918589\n",
              "winter  129782      711831   841613\n",
              "spring   60622      410726   471348"
            ]
          },
          "execution_count": 165,
          "metadata": {},
          "output_type": "execute_result"
        }
      ],
      "source": [
        "#jumlah rental berdasarkan musim\n",
        "day.groupby(\"season\").agg({\"casual\":\"sum\",\"registered\":\"sum\",\"total\":\"sum\"}).sort_values(by=\"total\", ascending=False)"
      ]
    },
    {
      "cell_type": "code",
      "execution_count": 166,
      "metadata": {
        "colab": {
          "base_uri": "https://localhost:8080/",
          "height": 833
        },
        "id": "NC5uUVfQUAlP",
        "outputId": "d2e699c3-ff0b-4792-916c-cb161af0c3de"
      },
      "outputs": [
        {
          "data": {
            "text/html": [
              "<div>\n",
              "<style scoped>\n",
              "    .dataframe tbody tr th:only-of-type {\n",
              "        vertical-align: middle;\n",
              "    }\n",
              "\n",
              "    .dataframe tbody tr th {\n",
              "        vertical-align: top;\n",
              "    }\n",
              "\n",
              "    .dataframe thead th {\n",
              "        text-align: right;\n",
              "    }\n",
              "</style>\n",
              "<table border=\"1\" class=\"dataframe\">\n",
              "  <thead>\n",
              "    <tr style=\"text-align: right;\">\n",
              "      <th></th>\n",
              "      <th></th>\n",
              "      <th>casual</th>\n",
              "      <th>registered</th>\n",
              "      <th>total</th>\n",
              "    </tr>\n",
              "    <tr>\n",
              "      <th>year</th>\n",
              "      <th>month</th>\n",
              "      <th></th>\n",
              "      <th></th>\n",
              "      <th></th>\n",
              "    </tr>\n",
              "  </thead>\n",
              "  <tbody>\n",
              "    <tr>\n",
              "      <th rowspan=\"9\" valign=\"top\">2012</th>\n",
              "      <th>September</th>\n",
              "      <td>43778</td>\n",
              "      <td>174795</td>\n",
              "      <td>218573</td>\n",
              "    </tr>\n",
              "    <tr>\n",
              "      <th>August</th>\n",
              "      <td>43197</td>\n",
              "      <td>171306</td>\n",
              "      <td>214503</td>\n",
              "    </tr>\n",
              "    <tr>\n",
              "      <th>July</th>\n",
              "      <td>41705</td>\n",
              "      <td>161902</td>\n",
              "      <td>203607</td>\n",
              "    </tr>\n",
              "    <tr>\n",
              "      <th>June</th>\n",
              "      <td>43294</td>\n",
              "      <td>159536</td>\n",
              "      <td>202830</td>\n",
              "    </tr>\n",
              "    <tr>\n",
              "      <th>October</th>\n",
              "      <td>34538</td>\n",
              "      <td>164303</td>\n",
              "      <td>198841</td>\n",
              "    </tr>\n",
              "    <tr>\n",
              "      <th>May</th>\n",
              "      <td>44235</td>\n",
              "      <td>151630</td>\n",
              "      <td>195865</td>\n",
              "    </tr>\n",
              "    <tr>\n",
              "      <th>April</th>\n",
              "      <td>38456</td>\n",
              "      <td>135768</td>\n",
              "      <td>174224</td>\n",
              "    </tr>\n",
              "    <tr>\n",
              "      <th>March</th>\n",
              "      <td>31618</td>\n",
              "      <td>133257</td>\n",
              "      <td>164875</td>\n",
              "    </tr>\n",
              "    <tr>\n",
              "      <th>November</th>\n",
              "      <td>21009</td>\n",
              "      <td>131655</td>\n",
              "      <td>152664</td>\n",
              "    </tr>\n",
              "    <tr>\n",
              "      <th rowspan=\"5\" valign=\"top\">2011</th>\n",
              "      <th>June</th>\n",
              "      <td>30612</td>\n",
              "      <td>112900</td>\n",
              "      <td>143512</td>\n",
              "    </tr>\n",
              "    <tr>\n",
              "      <th>July</th>\n",
              "      <td>36452</td>\n",
              "      <td>104889</td>\n",
              "      <td>141341</td>\n",
              "    </tr>\n",
              "    <tr>\n",
              "      <th>August</th>\n",
              "      <td>28842</td>\n",
              "      <td>107849</td>\n",
              "      <td>136691</td>\n",
              "    </tr>\n",
              "    <tr>\n",
              "      <th>May</th>\n",
              "      <td>31050</td>\n",
              "      <td>104771</td>\n",
              "      <td>135821</td>\n",
              "    </tr>\n",
              "    <tr>\n",
              "      <th>September</th>\n",
              "      <td>26545</td>\n",
              "      <td>100873</td>\n",
              "      <td>127418</td>\n",
              "    </tr>\n",
              "    <tr>\n",
              "      <th>2012</th>\n",
              "      <th>December</th>\n",
              "      <td>13245</td>\n",
              "      <td>110468</td>\n",
              "      <td>123713</td>\n",
              "    </tr>\n",
              "    <tr>\n",
              "      <th>2011</th>\n",
              "      <th>October</th>\n",
              "      <td>25222</td>\n",
              "      <td>98289</td>\n",
              "      <td>123511</td>\n",
              "    </tr>\n",
              "    <tr>\n",
              "      <th>2012</th>\n",
              "      <th>February</th>\n",
              "      <td>8721</td>\n",
              "      <td>94416</td>\n",
              "      <td>103137</td>\n",
              "    </tr>\n",
              "    <tr>\n",
              "      <th>2011</th>\n",
              "      <th>November</th>\n",
              "      <td>15594</td>\n",
              "      <td>86573</td>\n",
              "      <td>102167</td>\n",
              "    </tr>\n",
              "    <tr>\n",
              "      <th>2012</th>\n",
              "      <th>January</th>\n",
              "      <td>8969</td>\n",
              "      <td>87775</td>\n",
              "      <td>96744</td>\n",
              "    </tr>\n",
              "    <tr>\n",
              "      <th rowspan=\"5\" valign=\"top\">2011</th>\n",
              "      <th>April</th>\n",
              "      <td>22346</td>\n",
              "      <td>72524</td>\n",
              "      <td>94870</td>\n",
              "    </tr>\n",
              "    <tr>\n",
              "      <th>December</th>\n",
              "      <td>8448</td>\n",
              "      <td>78875</td>\n",
              "      <td>87323</td>\n",
              "    </tr>\n",
              "    <tr>\n",
              "      <th>March</th>\n",
              "      <td>12826</td>\n",
              "      <td>51219</td>\n",
              "      <td>64045</td>\n",
              "    </tr>\n",
              "    <tr>\n",
              "      <th>February</th>\n",
              "      <td>6242</td>\n",
              "      <td>41973</td>\n",
              "      <td>48215</td>\n",
              "    </tr>\n",
              "    <tr>\n",
              "      <th>January</th>\n",
              "      <td>3073</td>\n",
              "      <td>35116</td>\n",
              "      <td>38189</td>\n",
              "    </tr>\n",
              "  </tbody>\n",
              "</table>\n",
              "</div>"
            ],
            "text/plain": [
              "                casual  registered   total\n",
              "year month                                \n",
              "2012 September   43778      174795  218573\n",
              "     August      43197      171306  214503\n",
              "     July        41705      161902  203607\n",
              "     June        43294      159536  202830\n",
              "     October     34538      164303  198841\n",
              "     May         44235      151630  195865\n",
              "     April       38456      135768  174224\n",
              "     March       31618      133257  164875\n",
              "     November    21009      131655  152664\n",
              "2011 June        30612      112900  143512\n",
              "     July        36452      104889  141341\n",
              "     August      28842      107849  136691\n",
              "     May         31050      104771  135821\n",
              "     September   26545      100873  127418\n",
              "2012 December    13245      110468  123713\n",
              "2011 October     25222       98289  123511\n",
              "2012 February     8721       94416  103137\n",
              "2011 November    15594       86573  102167\n",
              "2012 January      8969       87775   96744\n",
              "2011 April       22346       72524   94870\n",
              "     December     8448       78875   87323\n",
              "     March       12826       51219   64045\n",
              "     February     6242       41973   48215\n",
              "     January      3073       35116   38189"
            ]
          },
          "execution_count": 166,
          "metadata": {},
          "output_type": "execute_result"
        }
      ],
      "source": [
        "#jumlah rental berdasarkan bulan da tahun\n",
        "day.groupby([\"year\",\"month\"]).agg({\"casual\":\"sum\",\"registered\":\"sum\",\"total\":\"sum\"}).sort_values(by=\"total\", ascending=False)"
      ]
    },
    {
      "cell_type": "code",
      "execution_count": 167,
      "metadata": {
        "colab": {
          "base_uri": "https://localhost:8080/",
          "height": 300
        },
        "id": "VU-LqbCLUPnB",
        "outputId": "e06698b6-0308-4507-d99a-7dd49dfb0175"
      },
      "outputs": [
        {
          "data": {
            "text/html": [
              "<div>\n",
              "<style scoped>\n",
              "    .dataframe tbody tr th:only-of-type {\n",
              "        vertical-align: middle;\n",
              "    }\n",
              "\n",
              "    .dataframe tbody tr th {\n",
              "        vertical-align: top;\n",
              "    }\n",
              "\n",
              "    .dataframe thead th {\n",
              "        text-align: right;\n",
              "    }\n",
              "</style>\n",
              "<table border=\"1\" class=\"dataframe\">\n",
              "  <thead>\n",
              "    <tr style=\"text-align: right;\">\n",
              "      <th></th>\n",
              "      <th>casual</th>\n",
              "      <th>registered</th>\n",
              "      <th>total</th>\n",
              "    </tr>\n",
              "    <tr>\n",
              "      <th>weekday</th>\n",
              "      <th></th>\n",
              "      <th></th>\n",
              "      <th></th>\n",
              "    </tr>\n",
              "  </thead>\n",
              "  <tbody>\n",
              "    <tr>\n",
              "      <th>Friday</th>\n",
              "      <td>78238</td>\n",
              "      <td>409552</td>\n",
              "      <td>487790</td>\n",
              "    </tr>\n",
              "    <tr>\n",
              "      <th>Thursday</th>\n",
              "      <td>61460</td>\n",
              "      <td>423935</td>\n",
              "      <td>485395</td>\n",
              "    </tr>\n",
              "    <tr>\n",
              "      <th>Saturday</th>\n",
              "      <td>153852</td>\n",
              "      <td>323955</td>\n",
              "      <td>477807</td>\n",
              "    </tr>\n",
              "    <tr>\n",
              "      <th>Wednesday</th>\n",
              "      <td>57319</td>\n",
              "      <td>415729</td>\n",
              "      <td>473048</td>\n",
              "    </tr>\n",
              "    <tr>\n",
              "      <th>Tuesday</th>\n",
              "      <td>57843</td>\n",
              "      <td>411266</td>\n",
              "      <td>469109</td>\n",
              "    </tr>\n",
              "    <tr>\n",
              "      <th>Monday</th>\n",
              "      <td>70784</td>\n",
              "      <td>384719</td>\n",
              "      <td>455503</td>\n",
              "    </tr>\n",
              "    <tr>\n",
              "      <th>Sunday</th>\n",
              "      <td>140521</td>\n",
              "      <td>303506</td>\n",
              "      <td>444027</td>\n",
              "    </tr>\n",
              "  </tbody>\n",
              "</table>\n",
              "</div>"
            ],
            "text/plain": [
              "           casual  registered   total\n",
              "weekday                              \n",
              "Friday      78238      409552  487790\n",
              "Thursday    61460      423935  485395\n",
              "Saturday   153852      323955  477807\n",
              "Wednesday   57319      415729  473048\n",
              "Tuesday     57843      411266  469109\n",
              "Monday      70784      384719  455503\n",
              "Sunday     140521      303506  444027"
            ]
          },
          "execution_count": 167,
          "metadata": {},
          "output_type": "execute_result"
        }
      ],
      "source": [
        "#jumlah rental sepeda berdasarkan hari\n",
        "day.groupby(\"weekday\").agg({\"casual\":\"sum\",\"registered\":\"sum\",\"total\":\"sum\"}).sort_values(by=\"total\", ascending=False)"
      ]
    },
    {
      "cell_type": "code",
      "execution_count": 168,
      "metadata": {
        "colab": {
          "base_uri": "https://localhost:8080/",
          "height": 175
        },
        "id": "nIauk2IHUd3-",
        "outputId": "d3f9bb5a-dff1-4843-a56e-f39c2920eb7e"
      },
      "outputs": [
        {
          "data": {
            "text/html": [
              "<div>\n",
              "<style scoped>\n",
              "    .dataframe tbody tr th:only-of-type {\n",
              "        vertical-align: middle;\n",
              "    }\n",
              "\n",
              "    .dataframe tbody tr th {\n",
              "        vertical-align: top;\n",
              "    }\n",
              "\n",
              "    .dataframe thead th {\n",
              "        text-align: right;\n",
              "    }\n",
              "</style>\n",
              "<table border=\"1\" class=\"dataframe\">\n",
              "  <thead>\n",
              "    <tr style=\"text-align: right;\">\n",
              "      <th></th>\n",
              "      <th>casual</th>\n",
              "      <th>registered</th>\n",
              "      <th>total</th>\n",
              "    </tr>\n",
              "    <tr>\n",
              "      <th>weather_situation</th>\n",
              "      <th></th>\n",
              "      <th></th>\n",
              "      <th></th>\n",
              "    </tr>\n",
              "  </thead>\n",
              "  <tbody>\n",
              "    <tr>\n",
              "      <th>Clear</th>\n",
              "      <td>446346</td>\n",
              "      <td>1811606</td>\n",
              "      <td>2257952</td>\n",
              "    </tr>\n",
              "    <tr>\n",
              "      <th>Mist</th>\n",
              "      <td>169776</td>\n",
              "      <td>827082</td>\n",
              "      <td>996858</td>\n",
              "    </tr>\n",
              "    <tr>\n",
              "      <th>Light Snow</th>\n",
              "      <td>3895</td>\n",
              "      <td>33974</td>\n",
              "      <td>37869</td>\n",
              "    </tr>\n",
              "  </tbody>\n",
              "</table>\n",
              "</div>"
            ],
            "text/plain": [
              "                   casual  registered    total\n",
              "weather_situation                             \n",
              "Clear              446346     1811606  2257952\n",
              "Mist               169776      827082   996858\n",
              "Light Snow           3895       33974    37869"
            ]
          },
          "execution_count": 168,
          "metadata": {},
          "output_type": "execute_result"
        }
      ],
      "source": [
        "#jumlah rental sepda berdasarkan kondisi cuaca\n",
        "day.groupby(\"weather_situation\").agg({\"casual\":\"sum\",\"registered\":\"sum\",\"total\":\"sum\"}).sort_values(by=\"total\", ascending=False)"
      ]
    },
    {
      "cell_type": "code",
      "execution_count": 169,
      "metadata": {
        "colab": {
          "base_uri": "https://localhost:8080/",
          "height": 313
        },
        "id": "KLE6-QJ0SqeA",
        "outputId": "c2081258-3303-4ec9-9bb2-d29f2f1e88ee"
      },
      "outputs": [
        {
          "data": {
            "text/html": [
              "<div>\n",
              "<style scoped>\n",
              "    .dataframe tbody tr th:only-of-type {\n",
              "        vertical-align: middle;\n",
              "    }\n",
              "\n",
              "    .dataframe tbody tr th {\n",
              "        vertical-align: top;\n",
              "    }\n",
              "\n",
              "    .dataframe thead th {\n",
              "        text-align: right;\n",
              "    }\n",
              "</style>\n",
              "<table border=\"1\" class=\"dataframe\">\n",
              "  <thead>\n",
              "    <tr style=\"text-align: right;\">\n",
              "      <th></th>\n",
              "      <th>dteday</th>\n",
              "      <th>season</th>\n",
              "      <th>year</th>\n",
              "      <th>month</th>\n",
              "      <th>weekday</th>\n",
              "      <th>workingday</th>\n",
              "      <th>weather_situation</th>\n",
              "      <th>temp</th>\n",
              "      <th>average_temp</th>\n",
              "      <th>humidity</th>\n",
              "      <th>windspeed</th>\n",
              "      <th>casual</th>\n",
              "      <th>registered</th>\n",
              "      <th>total</th>\n",
              "    </tr>\n",
              "  </thead>\n",
              "  <tbody>\n",
              "    <tr>\n",
              "      <th>0</th>\n",
              "      <td>2011-01-01</td>\n",
              "      <td>spring</td>\n",
              "      <td>2011</td>\n",
              "      <td>January</td>\n",
              "      <td>Saturday</td>\n",
              "      <td>Holiday</td>\n",
              "      <td>Mist</td>\n",
              "      <td>0.344167</td>\n",
              "      <td>0.363625</td>\n",
              "      <td>0.805833</td>\n",
              "      <td>0.160446</td>\n",
              "      <td>331</td>\n",
              "      <td>654</td>\n",
              "      <td>985</td>\n",
              "    </tr>\n",
              "    <tr>\n",
              "      <th>1</th>\n",
              "      <td>2011-01-02</td>\n",
              "      <td>spring</td>\n",
              "      <td>2011</td>\n",
              "      <td>January</td>\n",
              "      <td>Sunday</td>\n",
              "      <td>Holiday</td>\n",
              "      <td>Mist</td>\n",
              "      <td>0.363478</td>\n",
              "      <td>0.353739</td>\n",
              "      <td>0.696087</td>\n",
              "      <td>0.248539</td>\n",
              "      <td>131</td>\n",
              "      <td>670</td>\n",
              "      <td>801</td>\n",
              "    </tr>\n",
              "    <tr>\n",
              "      <th>2</th>\n",
              "      <td>2011-01-03</td>\n",
              "      <td>spring</td>\n",
              "      <td>2011</td>\n",
              "      <td>January</td>\n",
              "      <td>Monday</td>\n",
              "      <td>Workingday</td>\n",
              "      <td>Clear</td>\n",
              "      <td>0.196364</td>\n",
              "      <td>0.189405</td>\n",
              "      <td>0.437273</td>\n",
              "      <td>0.248309</td>\n",
              "      <td>120</td>\n",
              "      <td>1229</td>\n",
              "      <td>1349</td>\n",
              "    </tr>\n",
              "    <tr>\n",
              "      <th>3</th>\n",
              "      <td>2011-01-04</td>\n",
              "      <td>spring</td>\n",
              "      <td>2011</td>\n",
              "      <td>January</td>\n",
              "      <td>Tuesday</td>\n",
              "      <td>Workingday</td>\n",
              "      <td>Clear</td>\n",
              "      <td>0.200000</td>\n",
              "      <td>0.212122</td>\n",
              "      <td>0.590435</td>\n",
              "      <td>0.160296</td>\n",
              "      <td>108</td>\n",
              "      <td>1454</td>\n",
              "      <td>1562</td>\n",
              "    </tr>\n",
              "    <tr>\n",
              "      <th>4</th>\n",
              "      <td>2011-01-05</td>\n",
              "      <td>spring</td>\n",
              "      <td>2011</td>\n",
              "      <td>January</td>\n",
              "      <td>Wednesday</td>\n",
              "      <td>Workingday</td>\n",
              "      <td>Clear</td>\n",
              "      <td>0.226957</td>\n",
              "      <td>0.229270</td>\n",
              "      <td>0.436957</td>\n",
              "      <td>0.186900</td>\n",
              "      <td>82</td>\n",
              "      <td>1518</td>\n",
              "      <td>1600</td>\n",
              "    </tr>\n",
              "  </tbody>\n",
              "</table>\n",
              "</div>"
            ],
            "text/plain": [
              "      dteday  season  year    month    weekday  workingday weather_situation  \\\n",
              "0 2011-01-01  spring  2011  January   Saturday     Holiday              Mist   \n",
              "1 2011-01-02  spring  2011  January     Sunday     Holiday              Mist   \n",
              "2 2011-01-03  spring  2011  January     Monday  Workingday             Clear   \n",
              "3 2011-01-04  spring  2011  January    Tuesday  Workingday             Clear   \n",
              "4 2011-01-05  spring  2011  January  Wednesday  Workingday             Clear   \n",
              "\n",
              "       temp  average_temp  humidity  windspeed  casual  registered  total  \n",
              "0  0.344167      0.363625  0.805833   0.160446     331         654    985  \n",
              "1  0.363478      0.353739  0.696087   0.248539     131         670    801  \n",
              "2  0.196364      0.189405  0.437273   0.248309     120        1229   1349  \n",
              "3  0.200000      0.212122  0.590435   0.160296     108        1454   1562  \n",
              "4  0.226957      0.229270  0.436957   0.186900      82        1518   1600  "
            ]
          },
          "execution_count": 169,
          "metadata": {},
          "output_type": "execute_result"
        }
      ],
      "source": [
        "day.head()"
      ]
    },
    {
      "cell_type": "markdown",
      "metadata": {
        "id": "FuDIkcsxUwtc"
      },
      "source": [
        "#explore data \"hour\""
      ]
    },
    {
      "cell_type": "code",
      "execution_count": 170,
      "metadata": {
        "colab": {
          "base_uri": "https://localhost:8080/",
          "height": 206
        },
        "id": "5O4gIeveUqSy",
        "outputId": "0a67086b-5713-48ea-dec2-3341af5695cf"
      },
      "outputs": [
        {
          "data": {
            "text/html": [
              "<div>\n",
              "<style scoped>\n",
              "    .dataframe tbody tr th:only-of-type {\n",
              "        vertical-align: middle;\n",
              "    }\n",
              "\n",
              "    .dataframe tbody tr th {\n",
              "        vertical-align: top;\n",
              "    }\n",
              "\n",
              "    .dataframe thead th {\n",
              "        text-align: right;\n",
              "    }\n",
              "</style>\n",
              "<table border=\"1\" class=\"dataframe\">\n",
              "  <thead>\n",
              "    <tr style=\"text-align: right;\">\n",
              "      <th></th>\n",
              "      <th>casual</th>\n",
              "      <th>registered</th>\n",
              "      <th>total</th>\n",
              "    </tr>\n",
              "    <tr>\n",
              "      <th>season</th>\n",
              "      <th></th>\n",
              "      <th></th>\n",
              "      <th></th>\n",
              "    </tr>\n",
              "  </thead>\n",
              "  <tbody>\n",
              "    <tr>\n",
              "      <th>fall</th>\n",
              "      <td>226091</td>\n",
              "      <td>835038</td>\n",
              "      <td>1061129</td>\n",
              "    </tr>\n",
              "    <tr>\n",
              "      <th>summer</th>\n",
              "      <td>203522</td>\n",
              "      <td>715067</td>\n",
              "      <td>918589</td>\n",
              "    </tr>\n",
              "    <tr>\n",
              "      <th>winter</th>\n",
              "      <td>129782</td>\n",
              "      <td>711831</td>\n",
              "      <td>841613</td>\n",
              "    </tr>\n",
              "    <tr>\n",
              "      <th>spring</th>\n",
              "      <td>60622</td>\n",
              "      <td>410726</td>\n",
              "      <td>471348</td>\n",
              "    </tr>\n",
              "  </tbody>\n",
              "</table>\n",
              "</div>"
            ],
            "text/plain": [
              "        casual  registered    total\n",
              "season                             \n",
              "fall    226091      835038  1061129\n",
              "summer  203522      715067   918589\n",
              "winter  129782      711831   841613\n",
              "spring   60622      410726   471348"
            ]
          },
          "execution_count": 170,
          "metadata": {},
          "output_type": "execute_result"
        }
      ],
      "source": [
        "#jumlah rental sepeda berdasarkan cuaca\n",
        "hour.groupby(\"season\").agg({\"casual\":\"sum\",\"registered\":\"sum\",\"total\":\"sum\"}).sort_values(by=\"total\", ascending=False)"
      ]
    },
    {
      "cell_type": "code",
      "execution_count": 171,
      "metadata": {
        "colab": {
          "base_uri": "https://localhost:8080/",
          "height": 833
        },
        "id": "W5cj2_DOVDNv",
        "outputId": "987e64cf-f6c1-4a9e-8511-d583cae89bc5"
      },
      "outputs": [
        {
          "data": {
            "text/html": [
              "<div>\n",
              "<style scoped>\n",
              "    .dataframe tbody tr th:only-of-type {\n",
              "        vertical-align: middle;\n",
              "    }\n",
              "\n",
              "    .dataframe tbody tr th {\n",
              "        vertical-align: top;\n",
              "    }\n",
              "\n",
              "    .dataframe thead th {\n",
              "        text-align: right;\n",
              "    }\n",
              "</style>\n",
              "<table border=\"1\" class=\"dataframe\">\n",
              "  <thead>\n",
              "    <tr style=\"text-align: right;\">\n",
              "      <th></th>\n",
              "      <th></th>\n",
              "      <th>casual</th>\n",
              "      <th>registered</th>\n",
              "      <th>total</th>\n",
              "    </tr>\n",
              "    <tr>\n",
              "      <th>year</th>\n",
              "      <th>month</th>\n",
              "      <th></th>\n",
              "      <th></th>\n",
              "      <th></th>\n",
              "    </tr>\n",
              "  </thead>\n",
              "  <tbody>\n",
              "    <tr>\n",
              "      <th rowspan=\"9\" valign=\"top\">2012</th>\n",
              "      <th>September</th>\n",
              "      <td>43778</td>\n",
              "      <td>174795</td>\n",
              "      <td>218573</td>\n",
              "    </tr>\n",
              "    <tr>\n",
              "      <th>August</th>\n",
              "      <td>43197</td>\n",
              "      <td>171306</td>\n",
              "      <td>214503</td>\n",
              "    </tr>\n",
              "    <tr>\n",
              "      <th>July</th>\n",
              "      <td>41705</td>\n",
              "      <td>161902</td>\n",
              "      <td>203607</td>\n",
              "    </tr>\n",
              "    <tr>\n",
              "      <th>June</th>\n",
              "      <td>43294</td>\n",
              "      <td>159536</td>\n",
              "      <td>202830</td>\n",
              "    </tr>\n",
              "    <tr>\n",
              "      <th>October</th>\n",
              "      <td>34538</td>\n",
              "      <td>164303</td>\n",
              "      <td>198841</td>\n",
              "    </tr>\n",
              "    <tr>\n",
              "      <th>May</th>\n",
              "      <td>44235</td>\n",
              "      <td>151630</td>\n",
              "      <td>195865</td>\n",
              "    </tr>\n",
              "    <tr>\n",
              "      <th>April</th>\n",
              "      <td>38456</td>\n",
              "      <td>135768</td>\n",
              "      <td>174224</td>\n",
              "    </tr>\n",
              "    <tr>\n",
              "      <th>March</th>\n",
              "      <td>31618</td>\n",
              "      <td>133257</td>\n",
              "      <td>164875</td>\n",
              "    </tr>\n",
              "    <tr>\n",
              "      <th>November</th>\n",
              "      <td>21009</td>\n",
              "      <td>131655</td>\n",
              "      <td>152664</td>\n",
              "    </tr>\n",
              "    <tr>\n",
              "      <th rowspan=\"5\" valign=\"top\">2011</th>\n",
              "      <th>June</th>\n",
              "      <td>30612</td>\n",
              "      <td>112900</td>\n",
              "      <td>143512</td>\n",
              "    </tr>\n",
              "    <tr>\n",
              "      <th>July</th>\n",
              "      <td>36452</td>\n",
              "      <td>104889</td>\n",
              "      <td>141341</td>\n",
              "    </tr>\n",
              "    <tr>\n",
              "      <th>August</th>\n",
              "      <td>28842</td>\n",
              "      <td>107849</td>\n",
              "      <td>136691</td>\n",
              "    </tr>\n",
              "    <tr>\n",
              "      <th>May</th>\n",
              "      <td>31050</td>\n",
              "      <td>104771</td>\n",
              "      <td>135821</td>\n",
              "    </tr>\n",
              "    <tr>\n",
              "      <th>September</th>\n",
              "      <td>26545</td>\n",
              "      <td>100873</td>\n",
              "      <td>127418</td>\n",
              "    </tr>\n",
              "    <tr>\n",
              "      <th>2012</th>\n",
              "      <th>December</th>\n",
              "      <td>13245</td>\n",
              "      <td>110468</td>\n",
              "      <td>123713</td>\n",
              "    </tr>\n",
              "    <tr>\n",
              "      <th>2011</th>\n",
              "      <th>October</th>\n",
              "      <td>25222</td>\n",
              "      <td>98289</td>\n",
              "      <td>123511</td>\n",
              "    </tr>\n",
              "    <tr>\n",
              "      <th>2012</th>\n",
              "      <th>February</th>\n",
              "      <td>8721</td>\n",
              "      <td>94416</td>\n",
              "      <td>103137</td>\n",
              "    </tr>\n",
              "    <tr>\n",
              "      <th>2011</th>\n",
              "      <th>November</th>\n",
              "      <td>15594</td>\n",
              "      <td>86573</td>\n",
              "      <td>102167</td>\n",
              "    </tr>\n",
              "    <tr>\n",
              "      <th>2012</th>\n",
              "      <th>January</th>\n",
              "      <td>8969</td>\n",
              "      <td>87775</td>\n",
              "      <td>96744</td>\n",
              "    </tr>\n",
              "    <tr>\n",
              "      <th rowspan=\"5\" valign=\"top\">2011</th>\n",
              "      <th>April</th>\n",
              "      <td>22346</td>\n",
              "      <td>72524</td>\n",
              "      <td>94870</td>\n",
              "    </tr>\n",
              "    <tr>\n",
              "      <th>December</th>\n",
              "      <td>8448</td>\n",
              "      <td>78875</td>\n",
              "      <td>87323</td>\n",
              "    </tr>\n",
              "    <tr>\n",
              "      <th>March</th>\n",
              "      <td>12826</td>\n",
              "      <td>51219</td>\n",
              "      <td>64045</td>\n",
              "    </tr>\n",
              "    <tr>\n",
              "      <th>February</th>\n",
              "      <td>6242</td>\n",
              "      <td>41973</td>\n",
              "      <td>48215</td>\n",
              "    </tr>\n",
              "    <tr>\n",
              "      <th>January</th>\n",
              "      <td>3073</td>\n",
              "      <td>35116</td>\n",
              "      <td>38189</td>\n",
              "    </tr>\n",
              "  </tbody>\n",
              "</table>\n",
              "</div>"
            ],
            "text/plain": [
              "                casual  registered   total\n",
              "year month                                \n",
              "2012 September   43778      174795  218573\n",
              "     August      43197      171306  214503\n",
              "     July        41705      161902  203607\n",
              "     June        43294      159536  202830\n",
              "     October     34538      164303  198841\n",
              "     May         44235      151630  195865\n",
              "     April       38456      135768  174224\n",
              "     March       31618      133257  164875\n",
              "     November    21009      131655  152664\n",
              "2011 June        30612      112900  143512\n",
              "     July        36452      104889  141341\n",
              "     August      28842      107849  136691\n",
              "     May         31050      104771  135821\n",
              "     September   26545      100873  127418\n",
              "2012 December    13245      110468  123713\n",
              "2011 October     25222       98289  123511\n",
              "2012 February     8721       94416  103137\n",
              "2011 November    15594       86573  102167\n",
              "2012 January      8969       87775   96744\n",
              "2011 April       22346       72524   94870\n",
              "     December     8448       78875   87323\n",
              "     March       12826       51219   64045\n",
              "     February     6242       41973   48215\n",
              "     January      3073       35116   38189"
            ]
          },
          "execution_count": 171,
          "metadata": {},
          "output_type": "execute_result"
        }
      ],
      "source": [
        "#jumlahrental sepeda berdasarkan tahun dan bulan\n",
        "hour.groupby([\"year\",\"month\"]).agg({\"casual\":\"sum\",\"registered\":\"sum\",\"total\":\"sum\"}).sort_values(by=\"total\", ascending=False)"
      ]
    },
    {
      "cell_type": "code",
      "execution_count": 172,
      "metadata": {
        "colab": {
          "base_uri": "https://localhost:8080/",
          "height": 833
        },
        "id": "OJ0y5yAhVaR2",
        "outputId": "b1193814-7c7e-455f-93cd-569434b50a06"
      },
      "outputs": [
        {
          "data": {
            "text/html": [
              "<div>\n",
              "<style scoped>\n",
              "    .dataframe tbody tr th:only-of-type {\n",
              "        vertical-align: middle;\n",
              "    }\n",
              "\n",
              "    .dataframe tbody tr th {\n",
              "        vertical-align: top;\n",
              "    }\n",
              "\n",
              "    .dataframe thead th {\n",
              "        text-align: right;\n",
              "    }\n",
              "</style>\n",
              "<table border=\"1\" class=\"dataframe\">\n",
              "  <thead>\n",
              "    <tr style=\"text-align: right;\">\n",
              "      <th></th>\n",
              "      <th>casual</th>\n",
              "      <th>registered</th>\n",
              "      <th>total</th>\n",
              "    </tr>\n",
              "    <tr>\n",
              "      <th>hour</th>\n",
              "      <th></th>\n",
              "      <th></th>\n",
              "      <th></th>\n",
              "    </tr>\n",
              "  </thead>\n",
              "  <tbody>\n",
              "    <tr>\n",
              "      <th>17</th>\n",
              "      <td>54220</td>\n",
              "      <td>282640</td>\n",
              "      <td>336860</td>\n",
              "    </tr>\n",
              "    <tr>\n",
              "      <th>18</th>\n",
              "      <td>44496</td>\n",
              "      <td>265276</td>\n",
              "      <td>309772</td>\n",
              "    </tr>\n",
              "    <tr>\n",
              "      <th>8</th>\n",
              "      <td>15761</td>\n",
              "      <td>245240</td>\n",
              "      <td>261001</td>\n",
              "    </tr>\n",
              "    <tr>\n",
              "      <th>16</th>\n",
              "      <td>53834</td>\n",
              "      <td>173914</td>\n",
              "      <td>227748</td>\n",
              "    </tr>\n",
              "    <tr>\n",
              "      <th>19</th>\n",
              "      <td>35505</td>\n",
              "      <td>191284</td>\n",
              "      <td>226789</td>\n",
              "    </tr>\n",
              "    <tr>\n",
              "      <th>13</th>\n",
              "      <td>52713</td>\n",
              "      <td>132206</td>\n",
              "      <td>184919</td>\n",
              "    </tr>\n",
              "    <tr>\n",
              "      <th>12</th>\n",
              "      <td>49718</td>\n",
              "      <td>134696</td>\n",
              "      <td>184414</td>\n",
              "    </tr>\n",
              "    <tr>\n",
              "      <th>15</th>\n",
              "      <td>54606</td>\n",
              "      <td>128543</td>\n",
              "      <td>183149</td>\n",
              "    </tr>\n",
              "    <tr>\n",
              "      <th>14</th>\n",
              "      <td>55089</td>\n",
              "      <td>120563</td>\n",
              "      <td>175652</td>\n",
              "    </tr>\n",
              "    <tr>\n",
              "      <th>20</th>\n",
              "      <td>26378</td>\n",
              "      <td>138172</td>\n",
              "      <td>164550</td>\n",
              "    </tr>\n",
              "    <tr>\n",
              "      <th>9</th>\n",
              "      <td>22458</td>\n",
              "      <td>136980</td>\n",
              "      <td>159438</td>\n",
              "    </tr>\n",
              "    <tr>\n",
              "      <th>7</th>\n",
              "      <td>8037</td>\n",
              "      <td>146134</td>\n",
              "      <td>154171</td>\n",
              "    </tr>\n",
              "    <tr>\n",
              "      <th>11</th>\n",
              "      <td>43286</td>\n",
              "      <td>108034</td>\n",
              "      <td>151320</td>\n",
              "    </tr>\n",
              "    <tr>\n",
              "      <th>10</th>\n",
              "      <td>33789</td>\n",
              "      <td>92468</td>\n",
              "      <td>126257</td>\n",
              "    </tr>\n",
              "    <tr>\n",
              "      <th>21</th>\n",
              "      <td>20570</td>\n",
              "      <td>104875</td>\n",
              "      <td>125445</td>\n",
              "    </tr>\n",
              "    <tr>\n",
              "      <th>22</th>\n",
              "      <td>16200</td>\n",
              "      <td>79412</td>\n",
              "      <td>95612</td>\n",
              "    </tr>\n",
              "    <tr>\n",
              "      <th>23</th>\n",
              "      <td>11065</td>\n",
              "      <td>52876</td>\n",
              "      <td>63941</td>\n",
              "    </tr>\n",
              "    <tr>\n",
              "      <th>6</th>\n",
              "      <td>3017</td>\n",
              "      <td>52115</td>\n",
              "      <td>55132</td>\n",
              "    </tr>\n",
              "    <tr>\n",
              "      <th>0</th>\n",
              "      <td>7375</td>\n",
              "      <td>31755</td>\n",
              "      <td>39130</td>\n",
              "    </tr>\n",
              "    <tr>\n",
              "      <th>1</th>\n",
              "      <td>4709</td>\n",
              "      <td>19455</td>\n",
              "      <td>24164</td>\n",
              "    </tr>\n",
              "    <tr>\n",
              "      <th>2</th>\n",
              "      <td>3412</td>\n",
              "      <td>12940</td>\n",
              "      <td>16352</td>\n",
              "    </tr>\n",
              "    <tr>\n",
              "      <th>5</th>\n",
              "      <td>1012</td>\n",
              "      <td>13249</td>\n",
              "      <td>14261</td>\n",
              "    </tr>\n",
              "    <tr>\n",
              "      <th>3</th>\n",
              "      <td>1893</td>\n",
              "      <td>6281</td>\n",
              "      <td>8174</td>\n",
              "    </tr>\n",
              "    <tr>\n",
              "      <th>4</th>\n",
              "      <td>874</td>\n",
              "      <td>3554</td>\n",
              "      <td>4428</td>\n",
              "    </tr>\n",
              "  </tbody>\n",
              "</table>\n",
              "</div>"
            ],
            "text/plain": [
              "      casual  registered   total\n",
              "hour                            \n",
              "17     54220      282640  336860\n",
              "18     44496      265276  309772\n",
              "8      15761      245240  261001\n",
              "16     53834      173914  227748\n",
              "19     35505      191284  226789\n",
              "13     52713      132206  184919\n",
              "12     49718      134696  184414\n",
              "15     54606      128543  183149\n",
              "14     55089      120563  175652\n",
              "20     26378      138172  164550\n",
              "9      22458      136980  159438\n",
              "7       8037      146134  154171\n",
              "11     43286      108034  151320\n",
              "10     33789       92468  126257\n",
              "21     20570      104875  125445\n",
              "22     16200       79412   95612\n",
              "23     11065       52876   63941\n",
              "6       3017       52115   55132\n",
              "0       7375       31755   39130\n",
              "1       4709       19455   24164\n",
              "2       3412       12940   16352\n",
              "5       1012       13249   14261\n",
              "3       1893        6281    8174\n",
              "4        874        3554    4428"
            ]
          },
          "execution_count": 172,
          "metadata": {},
          "output_type": "execute_result"
        }
      ],
      "source": [
        "#jumlah rental sepeda berdasarkan jam\n",
        "hour.groupby(\"hour\").agg({\"casual\":\"sum\",\"registered\":\"sum\",\"total\":\"sum\"}).sort_values(by=\"total\", ascending=False)"
      ]
    },
    {
      "cell_type": "code",
      "execution_count": 173,
      "metadata": {
        "colab": {
          "base_uri": "https://localhost:8080/",
          "height": 206
        },
        "id": "NIW_9K_LVkf2",
        "outputId": "8cdf9d55-de6b-4f40-9a8e-3e17b9edb020"
      },
      "outputs": [
        {
          "data": {
            "text/html": [
              "<div>\n",
              "<style scoped>\n",
              "    .dataframe tbody tr th:only-of-type {\n",
              "        vertical-align: middle;\n",
              "    }\n",
              "\n",
              "    .dataframe tbody tr th {\n",
              "        vertical-align: top;\n",
              "    }\n",
              "\n",
              "    .dataframe thead th {\n",
              "        text-align: right;\n",
              "    }\n",
              "</style>\n",
              "<table border=\"1\" class=\"dataframe\">\n",
              "  <thead>\n",
              "    <tr style=\"text-align: right;\">\n",
              "      <th></th>\n",
              "      <th>casual</th>\n",
              "      <th>registered</th>\n",
              "      <th>total</th>\n",
              "    </tr>\n",
              "    <tr>\n",
              "      <th>weather_situation</th>\n",
              "      <th></th>\n",
              "      <th></th>\n",
              "      <th></th>\n",
              "    </tr>\n",
              "  </thead>\n",
              "  <tbody>\n",
              "    <tr>\n",
              "      <th>Clear</th>\n",
              "      <td>462745</td>\n",
              "      <td>1875428</td>\n",
              "      <td>2338173</td>\n",
              "    </tr>\n",
              "    <tr>\n",
              "      <th>Mist</th>\n",
              "      <td>134481</td>\n",
              "      <td>661471</td>\n",
              "      <td>795952</td>\n",
              "    </tr>\n",
              "    <tr>\n",
              "      <th>Light Snow</th>\n",
              "      <td>22783</td>\n",
              "      <td>135548</td>\n",
              "      <td>158331</td>\n",
              "    </tr>\n",
              "    <tr>\n",
              "      <th>Heavy Rain</th>\n",
              "      <td>8</td>\n",
              "      <td>215</td>\n",
              "      <td>223</td>\n",
              "    </tr>\n",
              "  </tbody>\n",
              "</table>\n",
              "</div>"
            ],
            "text/plain": [
              "                   casual  registered    total\n",
              "weather_situation                             \n",
              "Clear              462745     1875428  2338173\n",
              "Mist               134481      661471   795952\n",
              "Light Snow          22783      135548   158331\n",
              "Heavy Rain              8         215      223"
            ]
          },
          "execution_count": 173,
          "metadata": {},
          "output_type": "execute_result"
        }
      ],
      "source": [
        "#jumlah rental sepeda berdasarkan kondisicuaca\n",
        "hour.groupby(\"weather_situation\").agg({\"casual\":\"sum\",\"registered\":\"sum\",\"total\":\"sum\"}).sort_values(by=\"total\", ascending=False)"
      ]
    },
    {
      "cell_type": "code",
      "execution_count": 174,
      "metadata": {
        "colab": {
          "base_uri": "https://localhost:8080/",
          "height": 313
        },
        "id": "w5GsYWUjU0kG",
        "outputId": "92dd4ea1-9814-43c3-af8a-c6c4f62c1ebe"
      },
      "outputs": [
        {
          "data": {
            "text/html": [
              "<div>\n",
              "<style scoped>\n",
              "    .dataframe tbody tr th:only-of-type {\n",
              "        vertical-align: middle;\n",
              "    }\n",
              "\n",
              "    .dataframe tbody tr th {\n",
              "        vertical-align: top;\n",
              "    }\n",
              "\n",
              "    .dataframe thead th {\n",
              "        text-align: right;\n",
              "    }\n",
              "</style>\n",
              "<table border=\"1\" class=\"dataframe\">\n",
              "  <thead>\n",
              "    <tr style=\"text-align: right;\">\n",
              "      <th></th>\n",
              "      <th>dteday</th>\n",
              "      <th>season</th>\n",
              "      <th>year</th>\n",
              "      <th>month</th>\n",
              "      <th>hour</th>\n",
              "      <th>weekday</th>\n",
              "      <th>workingday</th>\n",
              "      <th>weather_situation</th>\n",
              "      <th>temp</th>\n",
              "      <th>average_temp</th>\n",
              "      <th>humidity</th>\n",
              "      <th>windspeed</th>\n",
              "      <th>casual</th>\n",
              "      <th>registered</th>\n",
              "      <th>total</th>\n",
              "    </tr>\n",
              "  </thead>\n",
              "  <tbody>\n",
              "    <tr>\n",
              "      <th>0</th>\n",
              "      <td>2011-01-01</td>\n",
              "      <td>spring</td>\n",
              "      <td>2011</td>\n",
              "      <td>January</td>\n",
              "      <td>0</td>\n",
              "      <td>Saturday</td>\n",
              "      <td>Holiday</td>\n",
              "      <td>Clear</td>\n",
              "      <td>0.24</td>\n",
              "      <td>0.2879</td>\n",
              "      <td>0.81</td>\n",
              "      <td>0.0</td>\n",
              "      <td>3</td>\n",
              "      <td>13</td>\n",
              "      <td>16</td>\n",
              "    </tr>\n",
              "    <tr>\n",
              "      <th>1</th>\n",
              "      <td>2011-01-01</td>\n",
              "      <td>spring</td>\n",
              "      <td>2011</td>\n",
              "      <td>January</td>\n",
              "      <td>1</td>\n",
              "      <td>Saturday</td>\n",
              "      <td>Holiday</td>\n",
              "      <td>Clear</td>\n",
              "      <td>0.22</td>\n",
              "      <td>0.2727</td>\n",
              "      <td>0.80</td>\n",
              "      <td>0.0</td>\n",
              "      <td>8</td>\n",
              "      <td>32</td>\n",
              "      <td>40</td>\n",
              "    </tr>\n",
              "    <tr>\n",
              "      <th>2</th>\n",
              "      <td>2011-01-01</td>\n",
              "      <td>spring</td>\n",
              "      <td>2011</td>\n",
              "      <td>January</td>\n",
              "      <td>2</td>\n",
              "      <td>Saturday</td>\n",
              "      <td>Holiday</td>\n",
              "      <td>Clear</td>\n",
              "      <td>0.22</td>\n",
              "      <td>0.2727</td>\n",
              "      <td>0.80</td>\n",
              "      <td>0.0</td>\n",
              "      <td>5</td>\n",
              "      <td>27</td>\n",
              "      <td>32</td>\n",
              "    </tr>\n",
              "    <tr>\n",
              "      <th>3</th>\n",
              "      <td>2011-01-01</td>\n",
              "      <td>spring</td>\n",
              "      <td>2011</td>\n",
              "      <td>January</td>\n",
              "      <td>3</td>\n",
              "      <td>Saturday</td>\n",
              "      <td>Holiday</td>\n",
              "      <td>Clear</td>\n",
              "      <td>0.24</td>\n",
              "      <td>0.2879</td>\n",
              "      <td>0.75</td>\n",
              "      <td>0.0</td>\n",
              "      <td>3</td>\n",
              "      <td>10</td>\n",
              "      <td>13</td>\n",
              "    </tr>\n",
              "    <tr>\n",
              "      <th>4</th>\n",
              "      <td>2011-01-01</td>\n",
              "      <td>spring</td>\n",
              "      <td>2011</td>\n",
              "      <td>January</td>\n",
              "      <td>4</td>\n",
              "      <td>Saturday</td>\n",
              "      <td>Holiday</td>\n",
              "      <td>Clear</td>\n",
              "      <td>0.24</td>\n",
              "      <td>0.2879</td>\n",
              "      <td>0.75</td>\n",
              "      <td>0.0</td>\n",
              "      <td>0</td>\n",
              "      <td>1</td>\n",
              "      <td>1</td>\n",
              "    </tr>\n",
              "  </tbody>\n",
              "</table>\n",
              "</div>"
            ],
            "text/plain": [
              "      dteday  season  year    month  hour   weekday workingday  \\\n",
              "0 2011-01-01  spring  2011  January     0  Saturday    Holiday   \n",
              "1 2011-01-01  spring  2011  January     1  Saturday    Holiday   \n",
              "2 2011-01-01  spring  2011  January     2  Saturday    Holiday   \n",
              "3 2011-01-01  spring  2011  January     3  Saturday    Holiday   \n",
              "4 2011-01-01  spring  2011  January     4  Saturday    Holiday   \n",
              "\n",
              "  weather_situation  temp  average_temp  humidity  windspeed  casual  \\\n",
              "0             Clear  0.24        0.2879      0.81        0.0       3   \n",
              "1             Clear  0.22        0.2727      0.80        0.0       8   \n",
              "2             Clear  0.22        0.2727      0.80        0.0       5   \n",
              "3             Clear  0.24        0.2879      0.75        0.0       3   \n",
              "4             Clear  0.24        0.2879      0.75        0.0       0   \n",
              "\n",
              "   registered  total  \n",
              "0          13     16  \n",
              "1          32     40  \n",
              "2          27     32  \n",
              "3          10     13  \n",
              "4           1      1  "
            ]
          },
          "execution_count": 174,
          "metadata": {},
          "output_type": "execute_result"
        }
      ],
      "source": [
        "hour.head()"
      ]
    },
    {
      "cell_type": "code",
      "execution_count": 175,
      "metadata": {
        "id": "rzOENM1tK8yU"
      },
      "outputs": [],
      "source": [
        "\n",
        "\n",
        "# Convert to CSV\n",
        "day.to_csv('day_cleaned.csv', index=False)\n",
        "hour.to_csv('hour_cleaned.csv', index=False)"
      ]
    },
    {
      "cell_type": "markdown",
      "metadata": {
        "id": "sqNRpHrjBYLx"
      },
      "source": [
        "#Vizualization & Explanatory Analysis"
      ]
    },
    {
      "cell_type": "markdown",
      "metadata": {
        "id": "PgqE6rGMBd0k"
      },
      "source": [
        "#pertanyaan 1:\n",
        "-  pada jam-jam berapa terjadi peningkatan jumlah penyewa sepeda?\n"
      ]
    },
    {
      "cell_type": "code",
      "execution_count": 176,
      "metadata": {
        "colab": {
          "base_uri": "https://localhost:8080/",
          "height": 564
        },
        "id": "PNeMJKPSBgWi",
        "outputId": "999295f6-9a3f-4747-aa0f-f1b687eb214d"
      },
      "outputs": [
        {
          "data": {
            "image/png": "[encoded data removed]",
            "text/plain": [
              "<Figure size 1000x600 with 1 Axes>"
            ]
          },
          "metadata": {},
          "output_type": "display_data"
        }
      ],
      "source": [
        "\n",
        "import matplotlib.pyplot as plt\n",
        "plt.figure(figsize=(10, 6))\n",
        "sns.pointplot(x=\"hour\", y=\"total\", hue=\"weekday\", data=hour)\n",
        "plt.title('Total Bike Rentals per Hour')\n",
        "plt.xlabel('Hour of the Day')\n",
        "plt.ylabel('Total Rentals')\n",
        "plt.xticks(range(0, 24))\n",
        "plt.grid(True)\n",
        "plt.show()"
      ]
    },
    {
      "cell_type": "markdown",
      "metadata": {
        "id": "7EOfQsdmoJpV"
      },
      "source": [
        "berdasarkan data diatas rental sepeda palng banyak dilakukan di hari jumat pada jam 17.00."
      ]
    },
    {
      "cell_type": "markdown",
      "metadata": {
        "id": "L6WSltQNBhDA"
      },
      "source": [
        "#Pertanyaan 2:\n",
        "-Bagaimana pengaruh kondisi cuaca terhadap jumlah penyewa sepeda pada setiap jamnya?"
      ]
    },
    {
      "cell_type": "code",
      "execution_count": 177,
      "metadata": {
        "colab": {
          "base_uri": "https://localhost:8080/",
          "height": 640
        },
        "id": "-A-BxT8HBkCp",
        "outputId": "d30e814d-92e2-4ec7-eb5a-9c9122bae37c"
      },
      "outputs": [
        {
          "data": {
            "image/png": "[encoded data removed]",
            "text/plain": [
              "<Figure size 1200x800 with 1 Axes>"
            ]
          },
          "metadata": {},
          "output_type": "display_data"
        }
      ],
      "source": [
        "\n",
        "import matplotlib.pyplot as plt\n",
        "import seaborn as sns\n",
        "plt.figure(figsize=(12, 8))\n",
        "sns.boxplot(x='weather_situation', y='total', data=hour)\n",
        "plt.title('Pengaruh Kondisi Cuaca terhadap Jumlah Penyewa Sepeda')\n",
        "plt.xlabel('Kondisi Cuaca')\n",
        "plt.ylabel('Jumlah Penyewa Sepeda')\n",
        "plt.show()"
      ]
    },
    {
      "cell_type": "markdown",
      "metadata": {
        "id": "Mnokm8FuoyMb"
      },
      "source": [
        "berdasarkan box plot diatas keputusan orang untuk menyewa sepeda dipengaruhi oleh ondisi cuaca. semakin cerah kondisinya semakin banyak orang yang menyewa sepeda."
      ]
    },
    {
      "cell_type": "markdown",
      "metadata": {
        "id": "mrUamKlrBmZV"
      },
      "source": [
        "insight:\n",
        "-\n",
        "-"
      ]
    },
    {
      "cell_type": "markdown",
      "metadata": {
        "id": "WYsuxdENdwd4"
      },
      "source": [
        "#Pertanyaan 3:\n",
        "- Bagaiamana pengaruh musim terhadap jumlah penyewa sepeda\n"
      ]
    },
    {
      "cell_type": "code",
      "execution_count": 178,
      "metadata": {
        "colab": {
          "base_uri": "https://localhost:8080/",
          "height": 675
        },
        "id": "9Srn3c9_du1B",
        "outputId": "d6faeee8-d16f-41f0-daa6-55a354021b89"
      },
      "outputs": [
        {
          "data": {
            "image/png": "[encoded data removed]",
            "text/plain": [
              "<Figure size 1100x800 with 1 Axes>"
            ]
          },
          "metadata": {},
          "output_type": "display_data"
        }
      ],
      "source": [
        "\n",
        "\n",
        "plt.figure(figsize=(11, 8))\n",
        "hour.groupby('season')['total'].sum().plot(kind='pie',autopct='%1.1f%%')\n",
        "plt.title('Pengaruh Musim terhadap Jumlah Penyewa Sepeda')\n",
        "plt.xlabel('')\n",
        "plt.ylabel('')\n",
        "plt.show()\n"
      ]
    },
    {
      "cell_type": "markdown",
      "metadata": {
        "id": "8u2n4HKSpH0d"
      },
      "source": [
        "pengaruh musim juga berpengaruh terhadap keputusan untuk menyewa sepeda. musim semi berkontribuis besar terhadap presentase penyewaan sebesar 32.2 %, disusul oleh musim dingin sebesar 25.6%."
      ]
    },
    {
      "cell_type": "markdown",
      "metadata": {
        "id": "2oS1roBniQDU"
      },
      "source": [
        "#Pertanyaan 4:\n",
        "- Apakah terdapat perbedaan jumlah penyewa sepeda terdaftar dan tidak terdaftar pada hari tertentu?"
      ]
    },
    {
      "cell_type": "code",
      "execution_count": 179,
      "metadata": {
        "colab": {
          "base_uri": "https://localhost:8080/",
          "height": 645
        },
        "id": "1UUmp_riiO4B",
        "outputId": "5b3e0a99-5de1-42ac-cf74-1abbf5cd0f64"
      },
      "outputs": [
        {
          "data": {
            "image/png": "[encoded data removed]",
            "text/plain": [
              "<Figure size 1200x800 with 1 Axes>"
            ]
          },
          "metadata": {},
          "output_type": "display_data"
        }
      ],
      "source": [
        "plt.figure(figsize=(12, 8))\n",
        "sns.pointplot(x='weekday', y='casual', label=\"casual\", data=hour)\n",
        "sns.pointplot(x='weekday', y='registered', label=\"registered\", data=hour)\n",
        "plt.title('Perbedaan Jumlah Penyewa Sepeda Terdaftar dan Tidak Terdaftar pada Hari Tertentu')\n",
        "plt.xlabel('Hari')\n",
        "plt.ylabel('Jumlah Penyewa Sepeda')\n",
        "plt.legend(title='')\n",
        "plt.show()"
      ]
    },
    {
      "cell_type": "markdown",
      "metadata": {
        "id": "FOd6OyJHqRBO"
      },
      "source": [
        "berdasarkan gambar diatas, secara keseluruhan penyewa yang terdatar lebih banyak di semua hari."
      ]
    },
    {
      "cell_type": "markdown",
      "metadata": {
        "id": "iL9jsN4dBs9P"
      },
      "source": [
        "#Conclusion\n",
        "- conlusion pertanyaan 1 : kebanyakan orang menyewa sepeda di har jumat pada jam 17.00\n",
        "- conclusion pertanyaan 2 : kondisi cerah mempengaruhi orang untuk menyewa sepeda paling banyak\n",
        "- conclusion pertanyaan 3 : musim gugur berpengaruh besar terhadap jumlah sepeda yang disewa\n",
        "- conlusion pertanyaan 4 : orang yang terdaftar lebih banyak dari pada yang tidak terdaftar\n",
        "\n",
        "\n"
      ]
    },
    {
      "cell_type": "markdown",
      "metadata": {
        "id": "GoFAUPq4tlPs"
      },
      "source": [
        "#Analisa Lanjutan\n"
      ]
    },
    {
      "cell_type": "code",
      "execution_count": 180,
      "metadata": {
        "colab": {
          "base_uri": "https://localhost:8080/",
          "height": 1000
        },
        "id": "KlSg4htOshC-",
        "outputId": "eeb0fe7d-8851-404b-98e9-69b62465babf"
      },
      "outputs": [
        {
          "name": "stdout",
          "output_type": "stream",
          "text": [
            "RFM_Score\n",
            "111    1360\n",
            "122    1494\n",
            "133     945\n",
            "144     523\n",
            "211    1106\n",
            "222    1163\n",
            "233    1229\n",
            "244     849\n",
            "311    1003\n",
            "322     946\n",
            "333    1106\n",
            "344    1303\n",
            "411     908\n",
            "422     728\n",
            "433    1065\n",
            "444    1651\n",
            "dtype: int64\n",
            "RFM_Score\n",
            "111     15.066176\n",
            "122     85.265730\n",
            "133    198.148148\n",
            "144    391.309751\n",
            "211     15.172694\n",
            "222     94.286328\n",
            "233    201.017901\n",
            "244    391.199058\n",
            "311     14.932203\n",
            "322     90.483087\n",
            "333    210.783906\n",
            "344    466.009977\n",
            "411     16.111233\n",
            "422     87.913462\n",
            "433    212.252582\n",
            "444    485.579043\n",
            "Name: total, dtype: float64\n"
          ]
        },
        {
          "data": {
            "image/png": "[encoded data removed]",
            "text/plain": [
              "<Figure size 1000x600 with 2 Axes>"
            ]
          },
          "metadata": {},
          "output_type": "display_data"
        }
      ],
      "source": [
        "hour[\"total_customers\"] = hour[\"casual\"] + hour[\"registered\"]\n",
        "latest_date = hour[\"dteday\"].max()\n",
        "hour[\"recency\"] = (latest_date - hour[\"dteday\"]).dt.days\n",
        "hour[\"monetary_value\"] = hour[\"total\"]\n",
        "\n",
        "r_labels = range(4, 0, -1)\n",
        "f_labels = range(1, 5)\n",
        "m_labels = range(1, 5)\n",
        "\n",
        "r_groups = pd.qcut(hour['recency'], q=4, labels=r_labels)\n",
        "f_groups = pd.qcut(hour['total_customers'], q=4, labels=f_labels)\n",
        "m_groups = pd.qcut(hour['monetary_value'], q=4, labels=m_labels)\n",
        "\n",
        "hour = hour.assign(R=r_groups.values, F=f_groups.values, M=m_groups.values)\n",
        "hour['RFM_Score'] = hour['R'].astype(str) + hour['F'].astype(str) + hour['M'].astype(str)\n",
        "\n",
        "high_value_customers = hour[hour['RFM_Score'].str.startswith(('4', '3'))]\n",
        "print(hour.groupby('RFM_Score').size())\n",
        "print(hour.groupby('RFM_Score')['total'].mean())\n",
        "\n",
        "plt.figure(figsize=(10, 6))\n",
        "plt.scatter(hour['recency'], hour['monetary_value'], c=hour['F'].astype(int), cmap='viridis')\n",
        "plt.xlabel('Recency')\n",
        "plt.ylabel('Monetary Value')\n",
        "plt.title('RFM Analysis')\n",
        "plt.colorbar(label='Frequency')\n",
        "plt.show()\n",
        "\n"
      ]
    },
    {
      "cell_type": "code",
      "execution_count": null,
      "metadata": {
        "id": "oCr1OFOmGTEp"
      },
      "outputs": [],
      "source": []
    }
  ],
  "metadata": {
    "colab": {
      "provenance": []
    },
    "kernelspec": {
      "display_name": "envnew",
      "language": "python",
      "name": "python3"
    },
    "language_info": {
      "codemirror_mode": {
        "name": "ipython",
        "version": 3
      },
      "file_extension": ".py",
      "mimetype": "text/x-python",
      "name": "python",
      "nbconvert_exporter": "python",
      "pygments_lexer": "ipython3",
      "version": "3.13.2"
    }
  },
  "nbformat": 4,
  "nbformat_minor": 0
}
